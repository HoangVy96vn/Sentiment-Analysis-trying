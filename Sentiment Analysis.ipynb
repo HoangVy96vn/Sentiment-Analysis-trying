{
 "cells": [
  {
   "cell_type": "code",
   "execution_count": 1,
   "id": "6cc5b904",
   "metadata": {},
   "outputs": [
    {
     "name": "stdout",
     "output_type": "stream",
     "text": [
      "hello Vy\n"
     ]
    }
   ],
   "source": [
    "print('hello Vy')"
   ]
  },
  {
   "cell_type": "code",
   "execution_count": 2,
   "id": "3f4a5dbd",
   "metadata": {},
   "outputs": [
    {
     "name": "stderr",
     "output_type": "stream",
     "text": [
      "C:\\Users\\vy\\anaconda3\\lib\\site-packages\\scipy\\__init__.py:155: UserWarning: A NumPy version >=1.18.5 and <1.25.0 is required for this version of SciPy (detected version 1.25.2\n",
      "  warnings.warn(f\"A NumPy version >={np_minversion} and <{np_maxversion}\"\n"
     ]
    }
   ],
   "source": [
    "import pandas as pd\n",
    "import numpy as np\n",
    "import matplotlib.pyplot as plt\n",
    "import seaborn as sns\n",
    "\n",
    "plt.style.use('ggplot')\n",
    "\n",
    "import nltk"
   ]
  },
  {
   "cell_type": "code",
   "execution_count": 20,
   "id": "59d2b440",
   "metadata": {},
   "outputs": [
    {
     "name": "stderr",
     "output_type": "stream",
     "text": [
      "[nltk_data] Downloading package punkt to\n",
      "[nltk_data]     C:\\Users\\vy\\AppData\\Roaming\\nltk_data...\n",
      "[nltk_data]   Unzipping tokenizers\\punkt.zip.\n"
     ]
    },
    {
     "data": {
      "text/plain": [
       "True"
      ]
     },
     "execution_count": 20,
     "metadata": {},
     "output_type": "execute_result"
    }
   ],
   "source": [
    "nltk.download('punkt')"
   ]
  },
  {
   "cell_type": "code",
   "execution_count": 27,
   "id": "701bf6d8",
   "metadata": {},
   "outputs": [
    {
     "name": "stderr",
     "output_type": "stream",
     "text": [
      "[nltk_data] Downloading package averaged_perceptron_tagger to\n",
      "[nltk_data]     C:\\Users\\vy\\AppData\\Roaming\\nltk_data...\n",
      "[nltk_data]   Unzipping taggers\\averaged_perceptron_tagger.zip.\n"
     ]
    },
    {
     "data": {
      "text/plain": [
       "True"
      ]
     },
     "execution_count": 27,
     "metadata": {},
     "output_type": "execute_result"
    }
   ],
   "source": [
    "nltk.download('averaged_perceptron_tagger')"
   ]
  },
  {
   "cell_type": "code",
   "execution_count": 31,
   "id": "b89bdad0",
   "metadata": {},
   "outputs": [
    {
     "name": "stderr",
     "output_type": "stream",
     "text": [
      "[nltk_data] Downloading package maxent_ne_chunker to\n",
      "[nltk_data]     C:\\Users\\vy\\AppData\\Roaming\\nltk_data...\n",
      "[nltk_data]   Unzipping chunkers\\maxent_ne_chunker.zip.\n"
     ]
    },
    {
     "data": {
      "text/plain": [
       "True"
      ]
     },
     "execution_count": 31,
     "metadata": {},
     "output_type": "execute_result"
    }
   ],
   "source": [
    "nltk.download('maxent_ne_chunker')"
   ]
  },
  {
   "cell_type": "code",
   "execution_count": 33,
   "id": "832ea863",
   "metadata": {},
   "outputs": [
    {
     "name": "stderr",
     "output_type": "stream",
     "text": [
      "[nltk_data] Downloading package words to\n",
      "[nltk_data]     C:\\Users\\vy\\AppData\\Roaming\\nltk_data...\n",
      "[nltk_data]   Unzipping corpora\\words.zip.\n"
     ]
    },
    {
     "data": {
      "text/plain": [
       "True"
      ]
     },
     "execution_count": 33,
     "metadata": {},
     "output_type": "execute_result"
    }
   ],
   "source": [
    "nltk.download('words')"
   ]
  },
  {
   "cell_type": "code",
   "execution_count": 36,
   "id": "14c1218b",
   "metadata": {},
   "outputs": [
    {
     "name": "stderr",
     "output_type": "stream",
     "text": [
      "[nltk_data] Downloading package vader_lexicon to\n",
      "[nltk_data]     C:\\Users\\vy\\AppData\\Roaming\\nltk_data...\n"
     ]
    },
    {
     "data": {
      "text/plain": [
       "True"
      ]
     },
     "execution_count": 36,
     "metadata": {},
     "output_type": "execute_result"
    }
   ],
   "source": [
    "nltk.download('vader_lexicon')"
   ]
  },
  {
   "cell_type": "code",
   "execution_count": 8,
   "id": "79b33b58",
   "metadata": {},
   "outputs": [
    {
     "name": "stdout",
     "output_type": "stream",
     "text": [
      "(568454, 10)\n",
      "(500, 10)\n"
     ]
    }
   ],
   "source": [
    "df = pd.read_csv('Reviews.csv')\n",
    "print(df.shape)\n",
    "df = df.head(500)\n",
    "print(df.shape)"
   ]
  },
  {
   "cell_type": "code",
   "execution_count": 9,
   "id": "e0672aee",
   "metadata": {},
   "outputs": [
    {
     "data": {
      "text/html": [
       "<div>\n",
       "<style scoped>\n",
       "    .dataframe tbody tr th:only-of-type {\n",
       "        vertical-align: middle;\n",
       "    }\n",
       "\n",
       "    .dataframe tbody tr th {\n",
       "        vertical-align: top;\n",
       "    }\n",
       "\n",
       "    .dataframe thead th {\n",
       "        text-align: right;\n",
       "    }\n",
       "</style>\n",
       "<table border=\"1\" class=\"dataframe\">\n",
       "  <thead>\n",
       "    <tr style=\"text-align: right;\">\n",
       "      <th></th>\n",
       "      <th>Id</th>\n",
       "      <th>ProductId</th>\n",
       "      <th>UserId</th>\n",
       "      <th>ProfileName</th>\n",
       "      <th>HelpfulnessNumerator</th>\n",
       "      <th>HelpfulnessDenominator</th>\n",
       "      <th>Score</th>\n",
       "      <th>Time</th>\n",
       "      <th>Summary</th>\n",
       "      <th>Text</th>\n",
       "    </tr>\n",
       "  </thead>\n",
       "  <tbody>\n",
       "    <tr>\n",
       "      <th>0</th>\n",
       "      <td>1</td>\n",
       "      <td>B001E4KFG0</td>\n",
       "      <td>A3SGXH7AUHU8GW</td>\n",
       "      <td>delmartian</td>\n",
       "      <td>1</td>\n",
       "      <td>1</td>\n",
       "      <td>5</td>\n",
       "      <td>1303862400</td>\n",
       "      <td>Good Quality Dog Food</td>\n",
       "      <td>I have bought several of the Vitality canned d...</td>\n",
       "    </tr>\n",
       "    <tr>\n",
       "      <th>1</th>\n",
       "      <td>2</td>\n",
       "      <td>B00813GRG4</td>\n",
       "      <td>A1D87F6ZCVE5NK</td>\n",
       "      <td>dll pa</td>\n",
       "      <td>0</td>\n",
       "      <td>0</td>\n",
       "      <td>1</td>\n",
       "      <td>1346976000</td>\n",
       "      <td>Not as Advertised</td>\n",
       "      <td>Product arrived labeled as Jumbo Salted Peanut...</td>\n",
       "    </tr>\n",
       "    <tr>\n",
       "      <th>2</th>\n",
       "      <td>3</td>\n",
       "      <td>B000LQOCH0</td>\n",
       "      <td>ABXLMWJIXXAIN</td>\n",
       "      <td>Natalia Corres \"Natalia Corres\"</td>\n",
       "      <td>1</td>\n",
       "      <td>1</td>\n",
       "      <td>4</td>\n",
       "      <td>1219017600</td>\n",
       "      <td>\"Delight\" says it all</td>\n",
       "      <td>This is a confection that has been around a fe...</td>\n",
       "    </tr>\n",
       "    <tr>\n",
       "      <th>3</th>\n",
       "      <td>4</td>\n",
       "      <td>B000UA0QIQ</td>\n",
       "      <td>A395BORC6FGVXV</td>\n",
       "      <td>Karl</td>\n",
       "      <td>3</td>\n",
       "      <td>3</td>\n",
       "      <td>2</td>\n",
       "      <td>1307923200</td>\n",
       "      <td>Cough Medicine</td>\n",
       "      <td>If you are looking for the secret ingredient i...</td>\n",
       "    </tr>\n",
       "    <tr>\n",
       "      <th>4</th>\n",
       "      <td>5</td>\n",
       "      <td>B006K2ZZ7K</td>\n",
       "      <td>A1UQRSCLF8GW1T</td>\n",
       "      <td>Michael D. Bigham \"M. Wassir\"</td>\n",
       "      <td>0</td>\n",
       "      <td>0</td>\n",
       "      <td>5</td>\n",
       "      <td>1350777600</td>\n",
       "      <td>Great taffy</td>\n",
       "      <td>Great taffy at a great price.  There was a wid...</td>\n",
       "    </tr>\n",
       "  </tbody>\n",
       "</table>\n",
       "</div>"
      ],
      "text/plain": [
       "   Id   ProductId          UserId                      ProfileName  \\\n",
       "0   1  B001E4KFG0  A3SGXH7AUHU8GW                       delmartian   \n",
       "1   2  B00813GRG4  A1D87F6ZCVE5NK                           dll pa   \n",
       "2   3  B000LQOCH0   ABXLMWJIXXAIN  Natalia Corres \"Natalia Corres\"   \n",
       "3   4  B000UA0QIQ  A395BORC6FGVXV                             Karl   \n",
       "4   5  B006K2ZZ7K  A1UQRSCLF8GW1T    Michael D. Bigham \"M. Wassir\"   \n",
       "\n",
       "   HelpfulnessNumerator  HelpfulnessDenominator  Score        Time  \\\n",
       "0                     1                       1      5  1303862400   \n",
       "1                     0                       0      1  1346976000   \n",
       "2                     1                       1      4  1219017600   \n",
       "3                     3                       3      2  1307923200   \n",
       "4                     0                       0      5  1350777600   \n",
       "\n",
       "                 Summary                                               Text  \n",
       "0  Good Quality Dog Food  I have bought several of the Vitality canned d...  \n",
       "1      Not as Advertised  Product arrived labeled as Jumbo Salted Peanut...  \n",
       "2  \"Delight\" says it all  This is a confection that has been around a fe...  \n",
       "3         Cough Medicine  If you are looking for the secret ingredient i...  \n",
       "4            Great taffy  Great taffy at a great price.  There was a wid...  "
      ]
     },
     "execution_count": 9,
     "metadata": {},
     "output_type": "execute_result"
    }
   ],
   "source": [
    "df.head()"
   ]
  },
  {
   "cell_type": "code",
   "execution_count": 14,
   "id": "c83ad06f",
   "metadata": {},
   "outputs": [
    {
     "data": {
      "image/png": "[encoded data removed]",
      "text/plain": [
       "<Figure size 640x480 with 1 Axes>"
      ]
     },
     "metadata": {},
     "output_type": "display_data"
    }
   ],
   "source": [
    "ax = df['Score'].value_counts().sort_index() \\\n",
    "        .plot(kind='bar', \n",
    "              title='Count of review by Score')\n",
    "ax.set_xlabel('Reviews stars')\n",
    "plt.show()"
   ]
  },
  {
   "cell_type": "markdown",
   "id": "bc2713bc",
   "metadata": {},
   "source": [
    "# Basic NLTK "
   ]
  },
  {
   "cell_type": "code",
   "execution_count": 22,
   "id": "237dfa68",
   "metadata": {},
   "outputs": [
    {
     "name": "stdout",
     "output_type": "stream",
     "text": [
      "This is a confection that has been around a few centuries.  It is a light, pillowy citrus gelatin with nuts - in this case Filberts. And it is cut into tiny squares and then liberally coated with powdered sugar.  And it is a tiny mouthful of heaven.  Not too chewy, and very flavorful.  I highly recommend this yummy treat.  If you are familiar with the story of C.S. Lewis' \"The Lion, The Witch, and The Wardrobe\" - this is the treat that seduces Edmund into selling out his Brother and Sisters to the Witch.\n"
     ]
    }
   ],
   "source": [
    "example = df['Text'][2]\n",
    "print(example)"
   ]
  },
  {
   "cell_type": "code",
   "execution_count": 25,
   "id": "83c95ceb",
   "metadata": {},
   "outputs": [
    {
     "data": {
      "text/plain": [
       "['This', 'is', 'a', 'confection', 'that', 'has', 'been', 'around', 'a', 'few']"
      ]
     },
     "execution_count": 25,
     "metadata": {},
     "output_type": "execute_result"
    }
   ],
   "source": [
    "tokens = nltk.word_tokenize(example)\n",
    "tokens[:10]"
   ]
  },
  {
   "cell_type": "code",
   "execution_count": 29,
   "id": "3246a266",
   "metadata": {},
   "outputs": [
    {
     "data": {
      "text/plain": [
       "[('This', 'DT'),\n",
       " ('is', 'VBZ'),\n",
       " ('a', 'DT'),\n",
       " ('confection', 'NN'),\n",
       " ('that', 'WDT'),\n",
       " ('has', 'VBZ'),\n",
       " ('been', 'VBN'),\n",
       " ('around', 'IN'),\n",
       " ('a', 'DT'),\n",
       " ('few', 'JJ')]"
      ]
     },
     "execution_count": 29,
     "metadata": {},
     "output_type": "execute_result"
    }
   ],
   "source": [
    "tagged = nltk.pos_tag(tokens)\n",
    "tagged[:10]"
   ]
  },
  {
   "cell_type": "code",
   "execution_count": 34,
   "id": "aa9da3a3",
   "metadata": {},
   "outputs": [
    {
     "name": "stdout",
     "output_type": "stream",
     "text": [
      "(S\n",
      "  This/DT\n",
      "  is/VBZ\n",
      "  a/DT\n",
      "  confection/NN\n",
      "  that/WDT\n",
      "  has/VBZ\n",
      "  been/VBN\n",
      "  around/IN\n",
      "  a/DT\n",
      "  few/JJ\n",
      "  centuries/NNS\n",
      "  ./.\n",
      "  It/PRP\n",
      "  is/VBZ\n",
      "  a/DT\n",
      "  light/JJ\n",
      "  ,/,\n",
      "  pillowy/JJ\n",
      "  citrus/NN\n",
      "  gelatin/NN\n",
      "  with/IN\n",
      "  nuts/NNS\n",
      "  -/:\n",
      "  in/IN\n",
      "  this/DT\n",
      "  case/NN\n",
      "  Filberts/NNP\n",
      "  ./.\n",
      "  And/CC\n",
      "  it/PRP\n",
      "  is/VBZ\n",
      "  cut/VBN\n",
      "  into/IN\n",
      "  tiny/JJ\n",
      "  squares/NNS\n",
      "  and/CC\n",
      "  then/RB\n",
      "  liberally/RB\n",
      "  coated/VBN\n",
      "  with/IN\n",
      "  powdered/JJ\n",
      "  sugar/NN\n",
      "  ./.\n",
      "  And/CC\n",
      "  it/PRP\n",
      "  is/VBZ\n",
      "  a/DT\n",
      "  tiny/JJ\n",
      "  mouthful/NN\n",
      "  of/IN\n",
      "  heaven/NN\n",
      "  ./.\n",
      "  Not/RB\n",
      "  too/RB\n",
      "  chewy/JJ\n",
      "  ,/,\n",
      "  and/CC\n",
      "  very/RB\n",
      "  flavorful/JJ\n",
      "  ./.\n",
      "  I/PRP\n",
      "  highly/RB\n",
      "  recommend/VBP\n",
      "  this/DT\n",
      "  yummy/JJ\n",
      "  treat/NN\n",
      "  ./.\n",
      "  If/IN\n",
      "  you/PRP\n",
      "  are/VBP\n",
      "  familiar/JJ\n",
      "  with/IN\n",
      "  the/DT\n",
      "  story/NN\n",
      "  of/IN\n",
      "  C.S/NNP\n",
      "  ./.\n",
      "  (PERSON Lewis/NNP)\n",
      "  '/POS\n",
      "  ``/``\n",
      "  The/DT\n",
      "  (ORGANIZATION Lion/NNP)\n",
      "  ,/,\n",
      "  The/DT\n",
      "  (GPE Witch/NNP)\n",
      "  ,/,\n",
      "  and/CC\n",
      "  The/DT\n",
      "  (ORGANIZATION Wardrobe/NNP)\n",
      "  ''/''\n",
      "  -/:\n",
      "  this/DT\n",
      "  is/VBZ\n",
      "  the/DT\n",
      "  treat/NN\n",
      "  that/WDT\n",
      "  seduces/VBZ\n",
      "  (PERSON Edmund/NNP)\n",
      "  into/IN\n",
      "  selling/VBG\n",
      "  out/RP\n",
      "  his/PRP$\n",
      "  (PERSON Brother/NN)\n",
      "  and/CC\n",
      "  (ORGANIZATION Sisters/NNP)\n",
      "  to/TO\n",
      "  the/DT\n",
      "  (GPE Witch/NNP)\n",
      "  ./.)\n"
     ]
    }
   ],
   "source": [
    "entities = nltk.chunk.ne_chunk(tagged)\n",
    "entities.pprint()"
   ]
  },
  {
   "cell_type": "markdown",
   "id": "e86b5358",
   "metadata": {},
   "source": [
    "# VADER\n",
    "We will use NLTK's SentimentIntensityAnalyzer to get the neg/neu/pos scores of the text.\n",
    "\n",
    "This uses a \"bag of words\" approach:\n",
    "Stop words are removed\n",
    "each word is scored and combined to a total score."
   ]
  },
  {
   "cell_type": "code",
   "execution_count": 37,
   "id": "6e9c0068",
   "metadata": {},
   "outputs": [],
   "source": [
    "from nltk.sentiment import SentimentIntensityAnalyzer\n",
    "from tqdm.notebook import tqdm\n",
    "\n",
    "sia = SentimentIntensityAnalyzer()"
   ]
  },
  {
   "cell_type": "code",
   "execution_count": 45,
   "id": "09ec52fc",
   "metadata": {},
   "outputs": [
    {
     "data": {
      "text/plain": [
       "{'neg': 0.0, 'neu': 1.0, 'pos': 0.0, 'compound': 0.0}"
      ]
     },
     "execution_count": 45,
     "metadata": {},
     "output_type": "execute_result"
    }
   ],
   "source": [
    "#test\n",
    "sia.polarity_scores('It is a blue day')"
   ]
  },
  {
   "cell_type": "code",
   "execution_count": 46,
   "id": "163bde52",
   "metadata": {},
   "outputs": [
    {
     "data": {
      "text/plain": [
       "{'neg': 0.091, 'neu': 0.754, 'pos': 0.155, 'compound': 0.8265}"
      ]
     },
     "execution_count": 46,
     "metadata": {},
     "output_type": "execute_result"
    }
   ],
   "source": [
    "sia.polarity_scores(example)"
   ]
  },
  {
   "cell_type": "code",
   "execution_count": 47,
   "id": "2f59228c",
   "metadata": {},
   "outputs": [
    {
     "data": {
      "application/vnd.jupyter.widget-view+json": {
       "model_id": "0fe4abc430004e6cae77f146d189ac18",
       "version_major": 2,
       "version_minor": 0
      },
      "text/plain": [
       "  0%|          | 0/500 [00:00<?, ?it/s]"
      ]
     },
     "metadata": {},
     "output_type": "display_data"
    }
   ],
   "source": [
    "#Let's run polarity scores in entire dataset\n",
    "#first create a dictionary for result\n",
    "res = {}\n",
    "\n",
    "for i, row in tqdm(df.iterrows(), total = len(df)):\n",
    "    text = row['Text']\n",
    "    myid = row['Id']\n",
    "    res[myid] = sia.polarity_scores(text)\n"
   ]
  },
  {
   "cell_type": "code",
   "execution_count": 53,
   "id": "c00bc60b",
   "metadata": {},
   "outputs": [
    {
     "data": {
      "text/html": [
       "<div>\n",
       "<style scoped>\n",
       "    .dataframe tbody tr th:only-of-type {\n",
       "        vertical-align: middle;\n",
       "    }\n",
       "\n",
       "    .dataframe tbody tr th {\n",
       "        vertical-align: top;\n",
       "    }\n",
       "\n",
       "    .dataframe thead th {\n",
       "        text-align: right;\n",
       "    }\n",
       "</style>\n",
       "<table border=\"1\" class=\"dataframe\">\n",
       "  <thead>\n",
       "    <tr style=\"text-align: right;\">\n",
       "      <th></th>\n",
       "      <th>Id</th>\n",
       "      <th>neg</th>\n",
       "      <th>neu</th>\n",
       "      <th>pos</th>\n",
       "      <th>compound</th>\n",
       "      <th>ProductId</th>\n",
       "      <th>UserId</th>\n",
       "      <th>ProfileName</th>\n",
       "      <th>HelpfulnessNumerator</th>\n",
       "      <th>HelpfulnessDenominator</th>\n",
       "      <th>Score</th>\n",
       "      <th>Time</th>\n",
       "      <th>Summary</th>\n",
       "      <th>Text</th>\n",
       "    </tr>\n",
       "  </thead>\n",
       "  <tbody>\n",
       "    <tr>\n",
       "      <th>0</th>\n",
       "      <td>1</td>\n",
       "      <td>0.000</td>\n",
       "      <td>0.695</td>\n",
       "      <td>0.305</td>\n",
       "      <td>0.9441</td>\n",
       "      <td>B001E4KFG0</td>\n",
       "      <td>A3SGXH7AUHU8GW</td>\n",
       "      <td>delmartian</td>\n",
       "      <td>1</td>\n",
       "      <td>1</td>\n",
       "      <td>5</td>\n",
       "      <td>1303862400</td>\n",
       "      <td>Good Quality Dog Food</td>\n",
       "      <td>I have bought several of the Vitality canned d...</td>\n",
       "    </tr>\n",
       "    <tr>\n",
       "      <th>1</th>\n",
       "      <td>2</td>\n",
       "      <td>0.138</td>\n",
       "      <td>0.862</td>\n",
       "      <td>0.000</td>\n",
       "      <td>-0.5664</td>\n",
       "      <td>B00813GRG4</td>\n",
       "      <td>A1D87F6ZCVE5NK</td>\n",
       "      <td>dll pa</td>\n",
       "      <td>0</td>\n",
       "      <td>0</td>\n",
       "      <td>1</td>\n",
       "      <td>1346976000</td>\n",
       "      <td>Not as Advertised</td>\n",
       "      <td>Product arrived labeled as Jumbo Salted Peanut...</td>\n",
       "    </tr>\n",
       "    <tr>\n",
       "      <th>2</th>\n",
       "      <td>3</td>\n",
       "      <td>0.091</td>\n",
       "      <td>0.754</td>\n",
       "      <td>0.155</td>\n",
       "      <td>0.8265</td>\n",
       "      <td>B000LQOCH0</td>\n",
       "      <td>ABXLMWJIXXAIN</td>\n",
       "      <td>Natalia Corres \"Natalia Corres\"</td>\n",
       "      <td>1</td>\n",
       "      <td>1</td>\n",
       "      <td>4</td>\n",
       "      <td>1219017600</td>\n",
       "      <td>\"Delight\" says it all</td>\n",
       "      <td>This is a confection that has been around a fe...</td>\n",
       "    </tr>\n",
       "    <tr>\n",
       "      <th>3</th>\n",
       "      <td>4</td>\n",
       "      <td>0.000</td>\n",
       "      <td>1.000</td>\n",
       "      <td>0.000</td>\n",
       "      <td>0.0000</td>\n",
       "      <td>B000UA0QIQ</td>\n",
       "      <td>A395BORC6FGVXV</td>\n",
       "      <td>Karl</td>\n",
       "      <td>3</td>\n",
       "      <td>3</td>\n",
       "      <td>2</td>\n",
       "      <td>1307923200</td>\n",
       "      <td>Cough Medicine</td>\n",
       "      <td>If you are looking for the secret ingredient i...</td>\n",
       "    </tr>\n",
       "    <tr>\n",
       "      <th>4</th>\n",
       "      <td>5</td>\n",
       "      <td>0.000</td>\n",
       "      <td>0.552</td>\n",
       "      <td>0.448</td>\n",
       "      <td>0.9468</td>\n",
       "      <td>B006K2ZZ7K</td>\n",
       "      <td>A1UQRSCLF8GW1T</td>\n",
       "      <td>Michael D. Bigham \"M. Wassir\"</td>\n",
       "      <td>0</td>\n",
       "      <td>0</td>\n",
       "      <td>5</td>\n",
       "      <td>1350777600</td>\n",
       "      <td>Great taffy</td>\n",
       "      <td>Great taffy at a great price.  There was a wid...</td>\n",
       "    </tr>\n",
       "    <tr>\n",
       "      <th>...</th>\n",
       "      <td>...</td>\n",
       "      <td>...</td>\n",
       "      <td>...</td>\n",
       "      <td>...</td>\n",
       "      <td>...</td>\n",
       "      <td>...</td>\n",
       "      <td>...</td>\n",
       "      <td>...</td>\n",
       "      <td>...</td>\n",
       "      <td>...</td>\n",
       "      <td>...</td>\n",
       "      <td>...</td>\n",
       "      <td>...</td>\n",
       "      <td>...</td>\n",
       "    </tr>\n",
       "    <tr>\n",
       "      <th>495</th>\n",
       "      <td>496</td>\n",
       "      <td>0.000</td>\n",
       "      <td>0.554</td>\n",
       "      <td>0.446</td>\n",
       "      <td>0.9725</td>\n",
       "      <td>B000G6RYNE</td>\n",
       "      <td>APGAA43E3WPN7</td>\n",
       "      <td>Darren</td>\n",
       "      <td>0</td>\n",
       "      <td>0</td>\n",
       "      <td>5</td>\n",
       "      <td>1201392000</td>\n",
       "      <td>amazing chips</td>\n",
       "      <td>i rarely eat chips but i saw these and tried t...</td>\n",
       "    </tr>\n",
       "    <tr>\n",
       "      <th>496</th>\n",
       "      <td>497</td>\n",
       "      <td>0.059</td>\n",
       "      <td>0.799</td>\n",
       "      <td>0.142</td>\n",
       "      <td>0.7833</td>\n",
       "      <td>B000G6RYNE</td>\n",
       "      <td>ABR7HU5H1KNE</td>\n",
       "      <td>Keith</td>\n",
       "      <td>0</td>\n",
       "      <td>0</td>\n",
       "      <td>5</td>\n",
       "      <td>1196726400</td>\n",
       "      <td>Best Chip Ever</td>\n",
       "      <td>This is easily the best potato chip that I hav...</td>\n",
       "    </tr>\n",
       "    <tr>\n",
       "      <th>497</th>\n",
       "      <td>498</td>\n",
       "      <td>0.025</td>\n",
       "      <td>0.762</td>\n",
       "      <td>0.212</td>\n",
       "      <td>0.9848</td>\n",
       "      <td>B000G6RYNE</td>\n",
       "      <td>AJQD2WWJYOYFQ</td>\n",
       "      <td>bubbles</td>\n",
       "      <td>0</td>\n",
       "      <td>0</td>\n",
       "      <td>4</td>\n",
       "      <td>1186617600</td>\n",
       "      <td>Tangy, spicy, and sweet- oh my!</td>\n",
       "      <td>Kettle Chips Spicy Thai potato chips have the ...</td>\n",
       "    </tr>\n",
       "    <tr>\n",
       "      <th>498</th>\n",
       "      <td>499</td>\n",
       "      <td>0.041</td>\n",
       "      <td>0.904</td>\n",
       "      <td>0.055</td>\n",
       "      <td>0.1280</td>\n",
       "      <td>B000G6RYNE</td>\n",
       "      <td>A16YH487W9ZYO0</td>\n",
       "      <td>Bruce G. Lindsay</td>\n",
       "      <td>0</td>\n",
       "      <td>0</td>\n",
       "      <td>4</td>\n",
       "      <td>1184198400</td>\n",
       "      <td>An indulgence with a bite</td>\n",
       "      <td>Okay, I should not eat potato chips, nor shoul...</td>\n",
       "    </tr>\n",
       "    <tr>\n",
       "      <th>499</th>\n",
       "      <td>500</td>\n",
       "      <td>0.000</td>\n",
       "      <td>0.678</td>\n",
       "      <td>0.322</td>\n",
       "      <td>0.9811</td>\n",
       "      <td>B000G6RYNE</td>\n",
       "      <td>A83YQC1XOU4CS</td>\n",
       "      <td>J. Baker</td>\n",
       "      <td>0</td>\n",
       "      <td>0</td>\n",
       "      <td>5</td>\n",
       "      <td>1183420800</td>\n",
       "      <td>The best I've had</td>\n",
       "      <td>I don't write very many reviews but I have to ...</td>\n",
       "    </tr>\n",
       "  </tbody>\n",
       "</table>\n",
       "<p>500 rows × 14 columns</p>\n",
       "</div>"
      ],
      "text/plain": [
       "      Id    neg    neu    pos  compound   ProductId          UserId  \\\n",
       "0      1  0.000  0.695  0.305    0.9441  B001E4KFG0  A3SGXH7AUHU8GW   \n",
       "1      2  0.138  0.862  0.000   -0.5664  B00813GRG4  A1D87F6ZCVE5NK   \n",
       "2      3  0.091  0.754  0.155    0.8265  B000LQOCH0   ABXLMWJIXXAIN   \n",
       "3      4  0.000  1.000  0.000    0.0000  B000UA0QIQ  A395BORC6FGVXV   \n",
       "4      5  0.000  0.552  0.448    0.9468  B006K2ZZ7K  A1UQRSCLF8GW1T   \n",
       "..   ...    ...    ...    ...       ...         ...             ...   \n",
       "495  496  0.000  0.554  0.446    0.9725  B000G6RYNE   APGAA43E3WPN7   \n",
       "496  497  0.059  0.799  0.142    0.7833  B000G6RYNE    ABR7HU5H1KNE   \n",
       "497  498  0.025  0.762  0.212    0.9848  B000G6RYNE   AJQD2WWJYOYFQ   \n",
       "498  499  0.041  0.904  0.055    0.1280  B000G6RYNE  A16YH487W9ZYO0   \n",
       "499  500  0.000  0.678  0.322    0.9811  B000G6RYNE   A83YQC1XOU4CS   \n",
       "\n",
       "                         ProfileName  HelpfulnessNumerator  \\\n",
       "0                         delmartian                     1   \n",
       "1                             dll pa                     0   \n",
       "2    Natalia Corres \"Natalia Corres\"                     1   \n",
       "3                               Karl                     3   \n",
       "4      Michael D. Bigham \"M. Wassir\"                     0   \n",
       "..                               ...                   ...   \n",
       "495                           Darren                     0   \n",
       "496                            Keith                     0   \n",
       "497                          bubbles                     0   \n",
       "498                 Bruce G. Lindsay                     0   \n",
       "499                         J. Baker                     0   \n",
       "\n",
       "     HelpfulnessDenominator  Score        Time  \\\n",
       "0                         1      5  1303862400   \n",
       "1                         0      1  1346976000   \n",
       "2                         1      4  1219017600   \n",
       "3                         3      2  1307923200   \n",
       "4                         0      5  1350777600   \n",
       "..                      ...    ...         ...   \n",
       "495                       0      5  1201392000   \n",
       "496                       0      5  1196726400   \n",
       "497                       0      4  1186617600   \n",
       "498                       0      4  1184198400   \n",
       "499                       0      5  1183420800   \n",
       "\n",
       "                             Summary  \\\n",
       "0              Good Quality Dog Food   \n",
       "1                  Not as Advertised   \n",
       "2              \"Delight\" says it all   \n",
       "3                     Cough Medicine   \n",
       "4                        Great taffy   \n",
       "..                               ...   \n",
       "495                    amazing chips   \n",
       "496                   Best Chip Ever   \n",
       "497  Tangy, spicy, and sweet- oh my!   \n",
       "498        An indulgence with a bite   \n",
       "499                The best I've had   \n",
       "\n",
       "                                                  Text  \n",
       "0    I have bought several of the Vitality canned d...  \n",
       "1    Product arrived labeled as Jumbo Salted Peanut...  \n",
       "2    This is a confection that has been around a fe...  \n",
       "3    If you are looking for the secret ingredient i...  \n",
       "4    Great taffy at a great price.  There was a wid...  \n",
       "..                                                 ...  \n",
       "495  i rarely eat chips but i saw these and tried t...  \n",
       "496  This is easily the best potato chip that I hav...  \n",
       "497  Kettle Chips Spicy Thai potato chips have the ...  \n",
       "498  Okay, I should not eat potato chips, nor shoul...  \n",
       "499  I don't write very many reviews but I have to ...  \n",
       "\n",
       "[500 rows x 14 columns]"
      ]
     },
     "execution_count": 53,
     "metadata": {},
     "output_type": "execute_result"
    }
   ],
   "source": [
    "vaders = pd.DataFrame(res).T\n",
    "vaders = vaders.reset_index().rename(columns = {'index':'Id'})\n",
    "vaders = vaders.merge(df, how = 'left')\n",
    "vaders"
   ]
  },
  {
   "cell_type": "markdown",
   "id": "b40898d4",
   "metadata": {},
   "source": [
    "# Let's draw the result of VADERS"
   ]
  },
  {
   "cell_type": "code",
   "execution_count": 55,
   "id": "ba354309",
   "metadata": {},
   "outputs": [
    {
     "data": {
      "image/png": "[encoded data removed]",
      "text/plain": [
       "<Figure size 640x480 with 1 Axes>"
      ]
     },
     "metadata": {},
     "output_type": "display_data"
    }
   ],
   "source": [
    "ax = sns.barplot(data=vaders, x = 'Score', y = 'compound')\n",
    "ax.set_title('Compound Scores vs Review Stars')\n",
    "plt.show()"
   ]
  },
  {
   "cell_type": "code",
   "execution_count": 57,
   "id": "c220ba37",
   "metadata": {},
   "outputs": [
    {
     "data": {
      "image/png": "[encoded data removed]",
      "text/plain": [
       "<Figure size 640x480 with 1 Axes>"
      ]
     },
     "metadata": {},
     "output_type": "display_data"
    }
   ],
   "source": [
    "ax = sns.scatterplot(data=vaders, x = 'Score', y = 'compound')\n",
    "ax.set_title('Compound Scores vs Review Stars')\n",
    "plt.show()"
   ]
  },
  {
   "cell_type": "code",
   "execution_count": 58,
   "id": "86662f97",
   "metadata": {},
   "outputs": [
    {
     "data": {
      "image/png": "[encoded data removed]",
      "text/plain": [
       "<Figure size 640x480 with 1 Axes>"
      ]
     },
     "metadata": {},
     "output_type": "display_data"
    }
   ],
   "source": [
    "ax = sns.boxplot(data=vaders, x = 'Score', y = 'compound')\n",
    "ax.set_title('Compound Scores vs Review Stars')\n",
    "plt.show()"
   ]
  },
  {
   "cell_type": "code",
   "execution_count": 60,
   "id": "6d7e24f5",
   "metadata": {},
   "outputs": [
    {
     "data": {
      "image/png": "[encoded data removed]",
      "text/plain": [
       "<Figure size 1500x500 with 3 Axes>"
      ]
     },
     "metadata": {},
     "output_type": "display_data"
    }
   ],
   "source": [
    "# Let's draw 3 plot at one picture\n",
    "fig, axs = plt.subplots(1,3, figsize=(15,5))\n",
    "sns.boxplot(data=vaders, x = 'Score', y = 'pos', ax = axs[0])\n",
    "sns.boxplot(data=vaders, x = 'Score', y = 'neu', ax = axs[1])\n",
    "sns.boxplot(data=vaders, x = 'Score', y = 'neg', ax = axs[2])\n",
    "axs[0].set_title('Positive')\n",
    "axs[1].set_title('Neutral')\n",
    "axs[2].set_title('Negative')\n",
    "plt.show()"
   ]
  },
  {
   "cell_type": "markdown",
   "id": "cfe38376",
   "metadata": {},
   "source": [
    "# Let's try Roberta Pretrained model\n",
    "- Use a model trained of a large corpus of data.\n",
    "- Transformer model accounts for the words but also the context related to other words."
   ]
  },
  {
   "cell_type": "code",
   "execution_count": 62,
   "id": "773dae55",
   "metadata": {},
   "outputs": [
    {
     "name": "stdout",
     "output_type": "stream",
     "text": [
      "Collecting transformers\n",
      "  Downloading transformers-4.41.2-py3-none-any.whl (9.1 MB)\n",
      "     ---------------------------------------- 9.1/9.1 MB 7.4 MB/s eta 0:00:00\n",
      "Requirement already satisfied: numpy>=1.17 in c:\\users\\vy\\anaconda3\\lib\\site-packages (from transformers) (1.25.2)\n",
      "Requirement already satisfied: regex!=2019.12.17 in c:\\users\\vy\\anaconda3\\lib\\site-packages (from transformers) (2022.7.9)\n",
      "Requirement already satisfied: packaging>=20.0 in c:\\users\\vy\\anaconda3\\lib\\site-packages (from transformers) (21.3)\n",
      "Collecting tokenizers<0.20,>=0.19\n",
      "  Downloading tokenizers-0.19.1-cp39-none-win_amd64.whl (2.2 MB)\n",
      "     ---------------------------------------- 2.2/2.2 MB 17.7 MB/s eta 0:00:00\n",
      "Requirement already satisfied: pyyaml>=5.1 in c:\\users\\vy\\anaconda3\\lib\\site-packages (from transformers) (6.0)\n",
      "Collecting huggingface-hub<1.0,>=0.23.0\n",
      "  Downloading huggingface_hub-0.23.4-py3-none-any.whl (402 kB)\n",
      "     ------------------------------------- 402.6/402.6 kB 26.2 MB/s eta 0:00:00\n",
      "Collecting safetensors>=0.4.1\n",
      "  Downloading safetensors-0.4.3-cp39-none-win_amd64.whl (287 kB)\n",
      "     ------------------------------------- 287.9/287.9 kB 17.4 MB/s eta 0:00:00\n",
      "Requirement already satisfied: requests in c:\\users\\vy\\anaconda3\\lib\\site-packages (from transformers) (2.28.1)\n",
      "Requirement already satisfied: filelock in c:\\users\\vy\\anaconda3\\lib\\site-packages (from transformers) (3.6.0)\n",
      "Requirement already satisfied: tqdm>=4.27 in c:\\users\\vy\\anaconda3\\lib\\site-packages (from transformers) (4.64.1)\n",
      "Collecting fsspec>=2023.5.0\n",
      "  Downloading fsspec-2024.6.0-py3-none-any.whl (176 kB)\n",
      "     ---------------------------------------- 176.9/176.9 kB ? eta 0:00:00\n",
      "Requirement already satisfied: typing-extensions>=3.7.4.3 in c:\\users\\vy\\anaconda3\\lib\\site-packages (from huggingface-hub<1.0,>=0.23.0->transformers) (4.3.0)\n",
      "Requirement already satisfied: pyparsing!=3.0.5,>=2.0.2 in c:\\users\\vy\\anaconda3\\lib\\site-packages (from packaging>=20.0->transformers) (3.0.9)\n",
      "Requirement already satisfied: colorama in c:\\users\\vy\\anaconda3\\lib\\site-packages (from tqdm>=4.27->transformers) (0.4.5)\n",
      "Requirement already satisfied: idna<4,>=2.5 in c:\\users\\vy\\anaconda3\\lib\\site-packages (from requests->transformers) (3.3)\n",
      "Requirement already satisfied: urllib3<1.27,>=1.21.1 in c:\\users\\vy\\anaconda3\\lib\\site-packages (from requests->transformers) (1.26.11)\n",
      "Requirement already satisfied: charset-normalizer<3,>=2 in c:\\users\\vy\\anaconda3\\lib\\site-packages (from requests->transformers) (2.0.4)\n",
      "Requirement already satisfied: certifi>=2017.4.17 in c:\\users\\vy\\anaconda3\\lib\\site-packages (from requests->transformers) (2022.9.14)\n",
      "Installing collected packages: safetensors, fsspec, huggingface-hub, tokenizers, transformers\n",
      "  Attempting uninstall: fsspec\n",
      "    Found existing installation: fsspec 2022.7.1\n",
      "    Uninstalling fsspec-2022.7.1:\n",
      "      Successfully uninstalled fsspec-2022.7.1\n",
      "Successfully installed fsspec-2024.6.0 huggingface-hub-0.23.4 safetensors-0.4.3 tokenizers-0.19.1 transformers-4.41.2\n",
      "Note: you may need to restart the kernel to use updated packages.\n"
     ]
    }
   ],
   "source": [
    "pip install transformers"
   ]
  },
  {
   "cell_type": "code",
   "execution_count": 64,
   "id": "7fb24f4e",
   "metadata": {},
   "outputs": [],
   "source": [
    "from transformers import AutoTokenizer\n",
    "from transformers import AutoModelForSequenceClassification\n",
    "from scipy.special import softmax"
   ]
  },
  {
   "cell_type": "code",
   "execution_count": 73,
   "id": "d94e6146",
   "metadata": {},
   "outputs": [
    {
     "ename": "ImportError",
     "evalue": "\nAutoModelForSequenceClassification requires the PyTorch library but it was not found in your environment.\nHowever, we were able to find a TensorFlow installation. TensorFlow classes begin\nwith \"TF\", but are otherwise identically named to our PyTorch classes. This\nmeans that the TF equivalent of the class you tried to import would be \"TFAutoModelForSequenceClassification\".\nIf you want to use TensorFlow, please use TF classes instead!\n\nIf you really do want to use PyTorch please go to\nhttps://pytorch.org/get-started/locally/ and follow the instructions that\nmatch your environment.\n",
     "output_type": "error",
     "traceback": [
      "\u001b[1;31m---------------------------------------------------------------------------\u001b[0m",
      "\u001b[1;31mImportError\u001b[0m                               Traceback (most recent call last)",
      "\u001b[1;32m~\\AppData\\Local\\Temp\\ipykernel_14516\\1426438965.py\u001b[0m in \u001b[0;36m<module>\u001b[1;34m\u001b[0m\n\u001b[0;32m      1\u001b[0m \u001b[0mMODEL\u001b[0m \u001b[1;33m=\u001b[0m \u001b[1;34mf\"cardiffnlp/twitter-roberta-base-sentiment\"\u001b[0m\u001b[1;33m\u001b[0m\u001b[1;33m\u001b[0m\u001b[0m\n\u001b[0;32m      2\u001b[0m \u001b[0mtokenizer\u001b[0m \u001b[1;33m=\u001b[0m \u001b[0mAutoTokenizer\u001b[0m\u001b[1;33m.\u001b[0m\u001b[0mfrom_pretrained\u001b[0m\u001b[1;33m(\u001b[0m\u001b[0mMODEL\u001b[0m\u001b[1;33m)\u001b[0m\u001b[1;33m\u001b[0m\u001b[1;33m\u001b[0m\u001b[0m\n\u001b[1;32m----> 3\u001b[1;33m \u001b[0mmodel\u001b[0m \u001b[1;33m=\u001b[0m \u001b[0mAutoModelForSequenceClassification\u001b[0m\u001b[1;33m.\u001b[0m\u001b[0mfrom_pretrained\u001b[0m\u001b[1;33m(\u001b[0m\u001b[0mMODEL\u001b[0m\u001b[1;33m)\u001b[0m\u001b[1;33m\u001b[0m\u001b[1;33m\u001b[0m\u001b[0m\n\u001b[0m",
      "\u001b[1;32m~\\anaconda3\\lib\\site-packages\\transformers\\utils\\import_utils.py\u001b[0m in \u001b[0;36m__getattribute__\u001b[1;34m(cls, key)\u001b[0m\n\u001b[0;32m   1473\u001b[0m         \u001b[1;32mif\u001b[0m \u001b[0mkey\u001b[0m\u001b[1;33m.\u001b[0m\u001b[0mstartswith\u001b[0m\u001b[1;33m(\u001b[0m\u001b[1;34m\"_\"\u001b[0m\u001b[1;33m)\u001b[0m \u001b[1;32mand\u001b[0m \u001b[0mkey\u001b[0m \u001b[1;33m!=\u001b[0m \u001b[1;34m\"_from_config\"\u001b[0m\u001b[1;33m:\u001b[0m\u001b[1;33m\u001b[0m\u001b[1;33m\u001b[0m\u001b[0m\n\u001b[0;32m   1474\u001b[0m             \u001b[1;32mreturn\u001b[0m \u001b[0msuper\u001b[0m\u001b[1;33m(\u001b[0m\u001b[1;33m)\u001b[0m\u001b[1;33m.\u001b[0m\u001b[0m__getattribute__\u001b[0m\u001b[1;33m(\u001b[0m\u001b[0mkey\u001b[0m\u001b[1;33m)\u001b[0m\u001b[1;33m\u001b[0m\u001b[1;33m\u001b[0m\u001b[0m\n\u001b[1;32m-> 1475\u001b[1;33m         \u001b[0mrequires_backends\u001b[0m\u001b[1;33m(\u001b[0m\u001b[0mcls\u001b[0m\u001b[1;33m,\u001b[0m \u001b[0mcls\u001b[0m\u001b[1;33m.\u001b[0m\u001b[0m_backends\u001b[0m\u001b[1;33m)\u001b[0m\u001b[1;33m\u001b[0m\u001b[1;33m\u001b[0m\u001b[0m\n\u001b[0m\u001b[0;32m   1476\u001b[0m \u001b[1;33m\u001b[0m\u001b[0m\n\u001b[0;32m   1477\u001b[0m \u001b[1;33m\u001b[0m\u001b[0m\n",
      "\u001b[1;32m~\\anaconda3\\lib\\site-packages\\transformers\\utils\\import_utils.py\u001b[0m in \u001b[0;36mrequires_backends\u001b[1;34m(obj, backends)\u001b[0m\n\u001b[0;32m   1452\u001b[0m     \u001b[1;31m# Raise an error for users who might not realize that classes without \"TF\" are torch-only\u001b[0m\u001b[1;33m\u001b[0m\u001b[1;33m\u001b[0m\u001b[0m\n\u001b[0;32m   1453\u001b[0m     \u001b[1;32mif\u001b[0m \u001b[1;34m\"torch\"\u001b[0m \u001b[1;32min\u001b[0m \u001b[0mbackends\u001b[0m \u001b[1;32mand\u001b[0m \u001b[1;34m\"tf\"\u001b[0m \u001b[1;32mnot\u001b[0m \u001b[1;32min\u001b[0m \u001b[0mbackends\u001b[0m \u001b[1;32mand\u001b[0m \u001b[1;32mnot\u001b[0m \u001b[0mis_torch_available\u001b[0m\u001b[1;33m(\u001b[0m\u001b[1;33m)\u001b[0m \u001b[1;32mand\u001b[0m \u001b[0mis_tf_available\u001b[0m\u001b[1;33m(\u001b[0m\u001b[1;33m)\u001b[0m\u001b[1;33m:\u001b[0m\u001b[1;33m\u001b[0m\u001b[1;33m\u001b[0m\u001b[0m\n\u001b[1;32m-> 1454\u001b[1;33m         \u001b[1;32mraise\u001b[0m \u001b[0mImportError\u001b[0m\u001b[1;33m(\u001b[0m\u001b[0mPYTORCH_IMPORT_ERROR_WITH_TF\u001b[0m\u001b[1;33m.\u001b[0m\u001b[0mformat\u001b[0m\u001b[1;33m(\u001b[0m\u001b[0mname\u001b[0m\u001b[1;33m)\u001b[0m\u001b[1;33m)\u001b[0m\u001b[1;33m\u001b[0m\u001b[1;33m\u001b[0m\u001b[0m\n\u001b[0m\u001b[0;32m   1455\u001b[0m \u001b[1;33m\u001b[0m\u001b[0m\n\u001b[0;32m   1456\u001b[0m     \u001b[1;31m# Raise the inverse error for PyTorch users trying to load TF classes\u001b[0m\u001b[1;33m\u001b[0m\u001b[1;33m\u001b[0m\u001b[0m\n",
      "\u001b[1;31mImportError\u001b[0m: \nAutoModelForSequenceClassification requires the PyTorch library but it was not found in your environment.\nHowever, we were able to find a TensorFlow installation. TensorFlow classes begin\nwith \"TF\", but are otherwise identically named to our PyTorch classes. This\nmeans that the TF equivalent of the class you tried to import would be \"TFAutoModelForSequenceClassification\".\nIf you want to use TensorFlow, please use TF classes instead!\n\nIf you really do want to use PyTorch please go to\nhttps://pytorch.org/get-started/locally/ and follow the instructions that\nmatch your environment.\n"
     ]
    }
   ],
   "source": [
    "MODEL = f\"cardiffnlp/twitter-roberta-base-sentiment\"\n",
    "tokenizer = AutoTokenizer.from_pretrained(MODEL)\n",
    "model = AutoModelForSequenceClassification.from_pretrained(MODEL)"
   ]
  },
  {
   "cell_type": "code",
   "execution_count": 71,
   "id": "c946987e",
   "metadata": {},
   "outputs": [
    {
     "name": "stdout",
     "output_type": "stream",
     "text": [
      "hi\n"
     ]
    }
   ],
   "source": [
    "# Run for Roberta Model\n",
    "encoded_text = tokenizer(example, return_tensors='pt')\n",
    "output = model(**encoded_text)\n",
    "scores = output[0][0].detach().numpy()\n",
    "scores = softmax(scores)\n",
    "scores_dict = {\n",
    "    'roberta_neg' : scores[0],\n",
    "    'roberta_neu' : scores[1],\n",
    "    'roberta_pos' : scores[2]\n",
    "}\n",
    "print(scores_dict)"
   ]
  },
  {
   "cell_type": "code",
   "execution_count": null,
   "id": "2ee37866",
   "metadata": {},
   "outputs": [],
   "source": [
    "def polarity_scores_roberta(example):\n",
    "    encoded_text = tokenizer(example, return_tensors='pt')\n",
    "    output = model(**encoded_text)\n",
    "    scores = output[0][0].detach().numpy()\n",
    "    scores = softmax(scores)\n",
    "    scores_dict = {\n",
    "        'roberta_neg' : scores[0],\n",
    "        'roberta_neu' : scores[1],\n",
    "        'roberta_pos' : scores[2]\n",
    "    }\n",
    "    return scores_dict"
   ]
  },
  {
   "cell_type": "code",
   "execution_count": null,
   "id": "855fe58a",
   "metadata": {},
   "outputs": [],
   "source": [
    "res = {}\n",
    "for i, row in tqdm(df.iterrows(), total=len(df)):\n",
    "    try:\n",
    "        text = row['Text']\n",
    "        myid = row['Id']\n",
    "        vader_result = sia.polarity_scores(text)\n",
    "        vader_result_rename = {}\n",
    "        for key, value in vader_result.items():\n",
    "            vader_result_rename[f\"vader_{key}\"] = value\n",
    "        roberta_result = polarity_scores_roberta(text)\n",
    "        both = {**vader_result_rename, **roberta_result}\n",
    "        res[myid] = both\n",
    "    except RuntimeError:\n",
    "        print(f'Broke for id {myid}')"
   ]
  },
  {
   "cell_type": "code",
   "execution_count": null,
   "id": "c68561f6",
   "metadata": {},
   "outputs": [],
   "source": [
    "results_df = pd.DataFrame(res).T\n",
    "results_df = results_df.reset_index().rename(columns={'index': 'Id'})\n",
    "results_df = results_df.merge(df, how='left')"
   ]
  },
  {
   "cell_type": "markdown",
   "id": "89a580d8",
   "metadata": {},
   "source": [
    "# Extra: The Transformers Pipeline¶\n"
   ]
  },
  {
   "cell_type": "code",
   "execution_count": 74,
   "id": "9a06db3c",
   "metadata": {},
   "outputs": [
    {
     "name": "stdout",
     "output_type": "stream",
     "text": [
      "WARNING:tensorflow:From C:\\Users\\vy\\anaconda3\\lib\\site-packages\\keras\\src\\losses.py:2976: The name tf.losses.sparse_softmax_cross_entropy is deprecated. Please use tf.compat.v1.losses.sparse_softmax_cross_entropy instead.\n",
      "\n"
     ]
    },
    {
     "name": "stderr",
     "output_type": "stream",
     "text": [
      "No model was supplied, defaulted to distilbert/distilbert-base-uncased-finetuned-sst-2-english and revision af0f99b (https://huggingface.co/distilbert/distilbert-base-uncased-finetuned-sst-2-english).\n",
      "Using a pipeline without specifying a model name and revision in production is not recommended.\n",
      "C:\\Users\\vy\\anaconda3\\lib\\site-packages\\huggingface_hub\\file_download.py:1132: FutureWarning: `resume_download` is deprecated and will be removed in version 1.0.0. Downloads always resume when possible. If you want to force a new download, use `force_download=True`.\n",
      "  warnings.warn(\n"
     ]
    },
    {
     "data": {
      "application/vnd.jupyter.widget-view+json": {
       "model_id": "6bdf12a84aee42e694b200b1a7cebd1d",
       "version_major": 2,
       "version_minor": 0
      },
      "text/plain": [
       "config.json:   0%|          | 0.00/629 [00:00<?, ?B/s]"
      ]
     },
     "metadata": {},
     "output_type": "display_data"
    },
    {
     "name": "stderr",
     "output_type": "stream",
     "text": [
      "C:\\Users\\vy\\anaconda3\\lib\\site-packages\\huggingface_hub\\file_download.py:157: UserWarning: `huggingface_hub` cache-system uses symlinks by default to efficiently store duplicated files but your machine does not support them in C:\\Users\\vy\\.cache\\huggingface\\hub\\models--distilbert--distilbert-base-uncased-finetuned-sst-2-english. Caching files will still work but in a degraded version that might require more space on your disk. This warning can be disabled by setting the `HF_HUB_DISABLE_SYMLINKS_WARNING` environment variable. For more details, see https://huggingface.co/docs/huggingface_hub/how-to-cache#limitations.\n",
      "To support symlinks on Windows, you either need to activate Developer Mode or to run Python as an administrator. In order to see activate developer mode, see this article: https://docs.microsoft.com/en-us/windows/apps/get-started/enable-your-device-for-development\n",
      "  warnings.warn(message)\n"
     ]
    },
    {
     "data": {
      "application/vnd.jupyter.widget-view+json": {
       "model_id": "566098692625499bbc67f5c228811f90",
       "version_major": 2,
       "version_minor": 0
      },
      "text/plain": [
       "model.safetensors:   0%|          | 0.00/268M [00:00<?, ?B/s]"
      ]
     },
     "metadata": {},
     "output_type": "display_data"
    },
    {
     "name": "stdout",
     "output_type": "stream",
     "text": [
      "WARNING:tensorflow:From C:\\Users\\vy\\anaconda3\\lib\\site-packages\\keras\\src\\backend.py:873: The name tf.get_default_graph is deprecated. Please use tf.compat.v1.get_default_graph instead.\n",
      "\n"
     ]
    },
    {
     "name": "stderr",
     "output_type": "stream",
     "text": [
      "All PyTorch model weights were used when initializing TFDistilBertForSequenceClassification.\n",
      "\n",
      "All the weights of TFDistilBertForSequenceClassification were initialized from the PyTorch model.\n",
      "If your task is similar to the task the model of the checkpoint was trained on, you can already use TFDistilBertForSequenceClassification for predictions without further training.\n"
     ]
    },
    {
     "data": {
      "application/vnd.jupyter.widget-view+json": {
       "model_id": "63872b16594b4c5b9e9fada4a0290c83",
       "version_major": 2,
       "version_minor": 0
      },
      "text/plain": [
       "tokenizer_config.json:   0%|          | 0.00/48.0 [00:00<?, ?B/s]"
      ]
     },
     "metadata": {},
     "output_type": "display_data"
    },
    {
     "data": {
      "application/vnd.jupyter.widget-view+json": {
       "model_id": "03442019d6f348168ec95730554310c6",
       "version_major": 2,
       "version_minor": 0
      },
      "text/plain": [
       "vocab.txt:   0%|          | 0.00/232k [00:00<?, ?B/s]"
      ]
     },
     "metadata": {},
     "output_type": "display_data"
    }
   ],
   "source": [
    "from transformers import pipeline\n",
    "\n",
    "sent_pipeline = pipeline(\"sentiment-analysis\")"
   ]
  },
  {
   "cell_type": "code",
   "execution_count": 83,
   "id": "1cf03880",
   "metadata": {},
   "outputs": [
    {
     "data": {
      "text/plain": [
       "{'label': 'POSITIVE', 'score': 0.9997652173042297}"
      ]
     },
     "execution_count": 83,
     "metadata": {},
     "output_type": "execute_result"
    }
   ],
   "source": [
    "sent_pipeline(example)[0]"
   ]
  },
  {
   "cell_type": "code",
   "execution_count": 84,
   "id": "6e0a8239",
   "metadata": {},
   "outputs": [
    {
     "data": {
      "application/vnd.jupyter.widget-view+json": {
       "model_id": "e991eb57b96949e18ae1dad6671ba9d3",
       "version_major": 2,
       "version_minor": 0
      },
      "text/plain": [
       "  0%|          | 0/500 [00:00<?, ?it/s]"
      ]
     },
     "metadata": {},
     "output_type": "display_data"
    },
    {
     "name": "stdout",
     "output_type": "stream",
     "text": [
      "Broke for id 83\n",
      "Broke for id 187\n"
     ]
    }
   ],
   "source": [
    "res = {}\n",
    "for i, row in tqdm(df.iterrows(), total=len(df)):\n",
    "    try:\n",
    "        text = row['Text']\n",
    "        myid = row['Id']\n",
    "        res[myid] = sent_pipeline(text)[0]\n",
    "    except:\n",
    "        print(f'Broke for id {myid}')"
   ]
  },
  {
   "cell_type": "code",
   "execution_count": 85,
   "id": "cf8e5eb5",
   "metadata": {},
   "outputs": [
    {
     "data": {
      "text/plain": [
       "{1: {'label': 'POSITIVE', 'score': 0.9983851909637451},\n",
       " 2: {'label': 'NEGATIVE', 'score': 0.9995254278182983},\n",
       " 3: {'label': 'POSITIVE', 'score': 0.9997652173042297},\n",
       " 4: {'label': 'POSITIVE', 'score': 0.9991534948348999},\n",
       " 5: {'label': 'POSITIVE', 'score': 0.9987082481384277},\n",
       " 6: {'label': 'POSITIVE', 'score': 0.9992551207542419},\n",
       " 7: {'label': 'POSITIVE', 'score': 0.9993639588356018},\n",
       " 8: {'label': 'POSITIVE', 'score': 0.9998829364776611},\n",
       " 9: {'label': 'POSITIVE', 'score': 0.9985174536705017},\n",
       " 10: {'label': 'POSITIVE', 'score': 0.9994561076164246},\n",
       " 11: {'label': 'POSITIVE', 'score': 0.9361922144889832},\n",
       " 12: {'label': 'NEGATIVE', 'score': 0.9992430210113525},\n",
       " 13: {'label': 'NEGATIVE', 'score': 0.9899448752403259},\n",
       " 14: {'label': 'POSITIVE', 'score': 0.9998890161514282},\n",
       " 15: {'label': 'POSITIVE', 'score': 0.9976365566253662},\n",
       " 16: {'label': 'POSITIVE', 'score': 0.9992697834968567},\n",
       " 17: {'label': 'POSITIVE', 'score': 0.9688603281974792},\n",
       " 18: {'label': 'POSITIVE', 'score': 0.9998708963394165},\n",
       " 19: {'label': 'NEGATIVE', 'score': 0.8231339454650879},\n",
       " 20: {'label': 'POSITIVE', 'score': 0.9976370334625244},\n",
       " 21: {'label': 'POSITIVE', 'score': 0.9998146891593933},\n",
       " 22: {'label': 'POSITIVE', 'score': 0.9996742010116577},\n",
       " 23: {'label': 'POSITIVE', 'score': 0.9995959401130676},\n",
       " 24: {'label': 'POSITIVE', 'score': 0.9991275668144226},\n",
       " 25: {'label': 'POSITIVE', 'score': 0.9971465468406677},\n",
       " 26: {'label': 'NEGATIVE', 'score': 0.9962425231933594},\n",
       " 27: {'label': 'NEGATIVE', 'score': 0.9988172650337219},\n",
       " 28: {'label': 'NEGATIVE', 'score': 0.525974690914154},\n",
       " 29: {'label': 'POSITIVE', 'score': 0.9997897744178772},\n",
       " 30: {'label': 'POSITIVE', 'score': 0.9361922144889832},\n",
       " 31: {'label': 'POSITIVE', 'score': 0.9846732020378113},\n",
       " 32: {'label': 'POSITIVE', 'score': 0.9996780157089233},\n",
       " 33: {'label': 'POSITIVE', 'score': 0.8532606959342957},\n",
       " 34: {'label': 'POSITIVE', 'score': 0.9988853335380554},\n",
       " 35: {'label': 'POSITIVE', 'score': 0.9994702935218811},\n",
       " 36: {'label': 'POSITIVE', 'score': 0.999298095703125},\n",
       " 37: {'label': 'POSITIVE', 'score': 0.998975396156311},\n",
       " 38: {'label': 'NEGATIVE', 'score': 0.9933992624282837},\n",
       " 39: {'label': 'POSITIVE', 'score': 0.9968936443328857},\n",
       " 40: {'label': 'POSITIVE', 'score': 0.9997797608375549},\n",
       " 41: {'label': 'POSITIVE', 'score': 0.9979168772697449},\n",
       " 42: {'label': 'POSITIVE', 'score': 0.9964499473571777},\n",
       " 43: {'label': 'POSITIVE', 'score': 0.9996805191040039},\n",
       " 44: {'label': 'POSITIVE', 'score': 0.9993491768836975},\n",
       " 45: {'label': 'POSITIVE', 'score': 0.9912446141242981},\n",
       " 46: {'label': 'NEGATIVE', 'score': 0.9996598958969116},\n",
       " 47: {'label': 'POSITIVE', 'score': 0.9979078769683838},\n",
       " 48: {'label': 'POSITIVE', 'score': 0.9993141889572144},\n",
       " 49: {'label': 'POSITIVE', 'score': 0.9998181462287903},\n",
       " 50: {'label': 'NEGATIVE', 'score': 0.9991084933280945},\n",
       " 51: {'label': 'NEGATIVE', 'score': 0.9994776844978333},\n",
       " 52: {'label': 'POSITIVE', 'score': 0.9830999374389648},\n",
       " 53: {'label': 'NEGATIVE', 'score': 0.9990749359130859},\n",
       " 54: {'label': 'NEGATIVE', 'score': 0.9988093376159668},\n",
       " 55: {'label': 'POSITIVE', 'score': 0.9994155168533325},\n",
       " 56: {'label': 'POSITIVE', 'score': 0.9996781349182129},\n",
       " 57: {'label': 'POSITIVE', 'score': 0.9941145777702332},\n",
       " 58: {'label': 'POSITIVE', 'score': 0.9998553991317749},\n",
       " 59: {'label': 'POSITIVE', 'score': 0.9998537302017212},\n",
       " 60: {'label': 'POSITIVE', 'score': 0.999836802482605},\n",
       " 61: {'label': 'NEGATIVE', 'score': 0.9984140396118164},\n",
       " 62: {'label': 'NEGATIVE', 'score': 0.7944889068603516},\n",
       " 63: {'label': 'NEGATIVE', 'score': 0.9997138381004333},\n",
       " 64: {'label': 'POSITIVE', 'score': 0.9967356324195862},\n",
       " 65: {'label': 'POSITIVE', 'score': 0.99346524477005},\n",
       " 66: {'label': 'POSITIVE', 'score': 0.9997692704200745},\n",
       " 67: {'label': 'POSITIVE', 'score': 0.9693402051925659},\n",
       " 68: {'label': 'NEGATIVE', 'score': 0.9936648607254028},\n",
       " 69: {'label': 'NEGATIVE', 'score': 0.9428938627243042},\n",
       " 70: {'label': 'NEGATIVE', 'score': 0.9980344176292419},\n",
       " 71: {'label': 'NEGATIVE', 'score': 0.5278977155685425},\n",
       " 72: {'label': 'POSITIVE', 'score': 0.9994820952415466},\n",
       " 73: {'label': 'POSITIVE', 'score': 0.9998462200164795},\n",
       " 74: {'label': 'NEGATIVE', 'score': 0.992121696472168},\n",
       " 75: {'label': 'POSITIVE', 'score': 0.9994617104530334},\n",
       " 76: {'label': 'NEGATIVE', 'score': 0.9995638728141785},\n",
       " 77: {'label': 'POSITIVE', 'score': 0.9968352913856506},\n",
       " 78: {'label': 'POSITIVE', 'score': 0.9996223449707031},\n",
       " 79: {'label': 'POSITIVE', 'score': 0.9975172281265259},\n",
       " 80: {'label': 'POSITIVE', 'score': 0.999032735824585},\n",
       " 81: {'label': 'POSITIVE', 'score': 0.9998800754547119},\n",
       " 82: {'label': 'POSITIVE', 'score': 0.9820191860198975},\n",
       " 84: {'label': 'POSITIVE', 'score': 0.9809135794639587},\n",
       " 85: {'label': 'NEGATIVE', 'score': 0.9484344720840454},\n",
       " 86: {'label': 'POSITIVE', 'score': 0.9997616410255432},\n",
       " 87: {'label': 'POSITIVE', 'score': 0.9993280172348022},\n",
       " 88: {'label': 'POSITIVE', 'score': 0.9976243376731873},\n",
       " 89: {'label': 'POSITIVE', 'score': 0.9901008605957031},\n",
       " 90: {'label': 'POSITIVE', 'score': 0.9997630715370178},\n",
       " 91: {'label': 'POSITIVE', 'score': 0.9996042847633362},\n",
       " 92: {'label': 'NEGATIVE', 'score': 0.9812535643577576},\n",
       " 93: {'label': 'POSITIVE', 'score': 0.9998302459716797},\n",
       " 94: {'label': 'POSITIVE', 'score': 0.9992081522941589},\n",
       " 95: {'label': 'NEGATIVE', 'score': 0.9971006512641907},\n",
       " 96: {'label': 'POSITIVE', 'score': 0.9968758821487427},\n",
       " 97: {'label': 'POSITIVE', 'score': 0.9960275888442993},\n",
       " 98: {'label': 'POSITIVE', 'score': 0.9941044449806213},\n",
       " 99: {'label': 'NEGATIVE', 'score': 0.9766537547111511},\n",
       " 100: {'label': 'NEGATIVE', 'score': 0.995214581489563},\n",
       " 101: {'label': 'NEGATIVE', 'score': 0.9944590330123901},\n",
       " 102: {'label': 'NEGATIVE', 'score': 0.7782683968544006},\n",
       " 103: {'label': 'NEGATIVE', 'score': 0.8498954176902771},\n",
       " 104: {'label': 'POSITIVE', 'score': 0.9840632677078247},\n",
       " 105: {'label': 'POSITIVE', 'score': 0.9997087121009827},\n",
       " 106: {'label': 'POSITIVE', 'score': 0.9996108412742615},\n",
       " 107: {'label': 'NEGATIVE', 'score': 0.9995409250259399},\n",
       " 108: {'label': 'POSITIVE', 'score': 0.9972037076950073},\n",
       " 109: {'label': 'POSITIVE', 'score': 0.9955293536186218},\n",
       " 110: {'label': 'POSITIVE', 'score': 0.9990881681442261},\n",
       " 111: {'label': 'POSITIVE', 'score': 0.7099496722221375},\n",
       " 112: {'label': 'POSITIVE', 'score': 0.9995027780532837},\n",
       " 113: {'label': 'POSITIVE', 'score': 0.5514624714851379},\n",
       " 114: {'label': 'POSITIVE', 'score': 0.9998267292976379},\n",
       " 115: {'label': 'POSITIVE', 'score': 0.9994250535964966},\n",
       " 116: {'label': 'POSITIVE', 'score': 0.9997128844261169},\n",
       " 117: {'label': 'POSITIVE', 'score': 0.9997335076332092},\n",
       " 118: {'label': 'POSITIVE', 'score': 0.9998195767402649},\n",
       " 119: {'label': 'NEGATIVE', 'score': 0.9932397603988647},\n",
       " 120: {'label': 'POSITIVE', 'score': 0.9988101720809937},\n",
       " 121: {'label': 'POSITIVE', 'score': 0.9989533424377441},\n",
       " 122: {'label': 'NEGATIVE', 'score': 0.9967911839485168},\n",
       " 123: {'label': 'POSITIVE', 'score': 0.9922398328781128},\n",
       " 124: {'label': 'POSITIVE', 'score': 0.9946994781494141},\n",
       " 125: {'label': 'POSITIVE', 'score': 0.9930735230445862},\n",
       " 126: {'label': 'NEGATIVE', 'score': 0.9831328988075256},\n",
       " 127: {'label': 'POSITIVE', 'score': 0.9996141195297241},\n",
       " 128: {'label': 'POSITIVE', 'score': 0.6164122819900513},\n",
       " 129: {'label': 'POSITIVE', 'score': 0.9997926354408264},\n",
       " 130: {'label': 'NEGATIVE', 'score': 0.9963968396186829},\n",
       " 131: {'label': 'POSITIVE', 'score': 0.9995040893554688},\n",
       " 132: {'label': 'NEGATIVE', 'score': 0.9976428151130676},\n",
       " 133: {'label': 'POSITIVE', 'score': 0.9816909432411194},\n",
       " 134: {'label': 'POSITIVE', 'score': 0.9974901676177979},\n",
       " 135: {'label': 'POSITIVE', 'score': 0.9994887113571167},\n",
       " 136: {'label': 'NEGATIVE', 'score': 0.9943616390228271},\n",
       " 137: {'label': 'POSITIVE', 'score': 0.9991340041160583},\n",
       " 138: {'label': 'POSITIVE', 'score': 0.9997684359550476},\n",
       " 139: {'label': 'POSITIVE', 'score': 0.9994801878929138},\n",
       " 140: {'label': 'POSITIVE', 'score': 0.9943555593490601},\n",
       " 141: {'label': 'NEGATIVE', 'score': 0.9989237189292908},\n",
       " 142: {'label': 'NEGATIVE', 'score': 0.9656116366386414},\n",
       " 143: {'label': 'POSITIVE', 'score': 0.9977263808250427},\n",
       " 144: {'label': 'POSITIVE', 'score': 0.9997280240058899},\n",
       " 145: {'label': 'NEGATIVE', 'score': 0.9997332692146301},\n",
       " 146: {'label': 'POSITIVE', 'score': 0.9996594190597534},\n",
       " 147: {'label': 'NEGATIVE', 'score': 0.9987447261810303},\n",
       " 148: {'label': 'NEGATIVE', 'score': 0.9961658716201782},\n",
       " 149: {'label': 'POSITIVE', 'score': 0.9978185892105103},\n",
       " 150: {'label': 'POSITIVE', 'score': 0.9997032284736633},\n",
       " 151: {'label': 'POSITIVE', 'score': 0.9997960925102234},\n",
       " 152: {'label': 'POSITIVE', 'score': 0.9889601469039917},\n",
       " 153: {'label': 'POSITIVE', 'score': 0.9996815919876099},\n",
       " 154: {'label': 'NEGATIVE', 'score': 0.999510645866394},\n",
       " 155: {'label': 'POSITIVE', 'score': 0.9998469352722168},\n",
       " 156: {'label': 'POSITIVE', 'score': 0.9991241097450256},\n",
       " 157: {'label': 'POSITIVE', 'score': 0.9706883430480957},\n",
       " 158: {'label': 'POSITIVE', 'score': 0.9997277855873108},\n",
       " 159: {'label': 'NEGATIVE', 'score': 0.9228253364562988},\n",
       " 160: {'label': 'NEGATIVE', 'score': 0.9907034635543823},\n",
       " 161: {'label': 'POSITIVE', 'score': 0.9998238682746887},\n",
       " 162: {'label': 'NEGATIVE', 'score': 0.9988621473312378},\n",
       " 163: {'label': 'NEGATIVE', 'score': 0.9590992331504822},\n",
       " 164: {'label': 'POSITIVE', 'score': 0.9984739422798157},\n",
       " 165: {'label': 'NEGATIVE', 'score': 0.9689642190933228},\n",
       " 166: {'label': 'POSITIVE', 'score': 0.9992547631263733},\n",
       " 167: {'label': 'POSITIVE', 'score': 0.9998489618301392},\n",
       " 168: {'label': 'NEGATIVE', 'score': 0.9995507597923279},\n",
       " 169: {'label': 'NEGATIVE', 'score': 0.9993264675140381},\n",
       " 170: {'label': 'NEGATIVE', 'score': 0.9987815022468567},\n",
       " 171: {'label': 'NEGATIVE', 'score': 0.6861357092857361},\n",
       " 172: {'label': 'POSITIVE', 'score': 0.9994447827339172},\n",
       " 173: {'label': 'POSITIVE', 'score': 0.9997451901435852},\n",
       " 174: {'label': 'POSITIVE', 'score': 0.9991533756256104},\n",
       " 175: {'label': 'POSITIVE', 'score': 0.945606529712677},\n",
       " 176: {'label': 'POSITIVE', 'score': 0.9994175434112549},\n",
       " 177: {'label': 'POSITIVE', 'score': 0.9990071654319763},\n",
       " 178: {'label': 'POSITIVE', 'score': 0.9982870221138},\n",
       " 179: {'label': 'POSITIVE', 'score': 0.999447762966156},\n",
       " 180: {'label': 'POSITIVE', 'score': 0.9992243051528931},\n",
       " 181: {'label': 'NEGATIVE', 'score': 0.9778582453727722},\n",
       " 182: {'label': 'POSITIVE', 'score': 0.9998774528503418},\n",
       " 183: {'label': 'POSITIVE', 'score': 0.9455761909484863},\n",
       " 184: {'label': 'POSITIVE', 'score': 0.9980668425559998},\n",
       " 185: {'label': 'POSITIVE', 'score': 0.9985130429267883},\n",
       " 186: {'label': 'NEGATIVE', 'score': 0.9990496039390564},\n",
       " 188: {'label': 'POSITIVE', 'score': 0.9710931777954102},\n",
       " 189: {'label': 'POSITIVE', 'score': 0.9949093461036682},\n",
       " 190: {'label': 'POSITIVE', 'score': 0.9995301961898804},\n",
       " 191: {'label': 'POSITIVE', 'score': 0.9998537302017212},\n",
       " 192: {'label': 'POSITIVE', 'score': 0.9969857335090637},\n",
       " 193: {'label': 'POSITIVE', 'score': 0.9993858337402344},\n",
       " 194: {'label': 'POSITIVE', 'score': 0.9998124241828918},\n",
       " 195: {'label': 'NEGATIVE', 'score': 0.9555224180221558},\n",
       " 196: {'label': 'POSITIVE', 'score': 0.9953944683074951},\n",
       " 197: {'label': 'NEGATIVE', 'score': 0.990047812461853},\n",
       " 198: {'label': 'NEGATIVE', 'score': 0.9965261816978455},\n",
       " 199: {'label': 'POSITIVE', 'score': 0.9997742772102356},\n",
       " 200: {'label': 'POSITIVE', 'score': 0.9989084005355835},\n",
       " 201: {'label': 'NEGATIVE', 'score': 0.9996451139450073},\n",
       " 202: {'label': 'POSITIVE', 'score': 0.9995642304420471},\n",
       " 203: {'label': 'POSITIVE', 'score': 0.9308077692985535},\n",
       " 204: {'label': 'NEGATIVE', 'score': 0.7713221907615662},\n",
       " 205: {'label': 'POSITIVE', 'score': 0.9934670329093933},\n",
       " 206: {'label': 'POSITIVE', 'score': 0.9997374415397644},\n",
       " 207: {'label': 'POSITIVE', 'score': 0.9998108744621277},\n",
       " 208: {'label': 'POSITIVE', 'score': 0.9998725652694702},\n",
       " 209: {'label': 'NEGATIVE', 'score': 0.9632771015167236},\n",
       " 210: {'label': 'POSITIVE', 'score': 0.9887095093727112},\n",
       " 211: {'label': 'POSITIVE', 'score': 0.9817585945129395},\n",
       " 212: {'label': 'NEGATIVE', 'score': 0.9846028089523315},\n",
       " 213: {'label': 'NEGATIVE', 'score': 0.9996079802513123},\n",
       " 214: {'label': 'NEGATIVE', 'score': 0.9995157718658447},\n",
       " 215: {'label': 'POSITIVE', 'score': 0.9985058307647705},\n",
       " 216: {'label': 'POSITIVE', 'score': 0.9956321120262146},\n",
       " 217: {'label': 'NEGATIVE', 'score': 0.9989571571350098},\n",
       " 218: {'label': 'POSITIVE', 'score': 0.9050410985946655},\n",
       " 219: {'label': 'POSITIVE', 'score': 0.9988378882408142},\n",
       " 220: {'label': 'POSITIVE', 'score': 0.999517560005188},\n",
       " 221: {'label': 'POSITIVE', 'score': 0.9985698461532593},\n",
       " 222: {'label': 'POSITIVE', 'score': 0.9987867474555969},\n",
       " 223: {'label': 'POSITIVE', 'score': 0.9997486472129822},\n",
       " 224: {'label': 'POSITIVE', 'score': 0.999862790107727},\n",
       " 225: {'label': 'NEGATIVE', 'score': 0.9992654919624329},\n",
       " 226: {'label': 'NEGATIVE', 'score': 0.7520123720169067},\n",
       " 227: {'label': 'POSITIVE', 'score': 0.9990498423576355},\n",
       " 228: {'label': 'POSITIVE', 'score': 0.997413694858551},\n",
       " 229: {'label': 'NEGATIVE', 'score': 0.9887644052505493},\n",
       " 230: {'label': 'NEGATIVE', 'score': 0.9989424347877502},\n",
       " 231: {'label': 'POSITIVE', 'score': 0.9997567534446716},\n",
       " 232: {'label': 'POSITIVE', 'score': 0.9940260648727417},\n",
       " 233: {'label': 'POSITIVE', 'score': 0.9997686743736267},\n",
       " 234: {'label': 'NEGATIVE', 'score': 0.9950335025787354},\n",
       " 235: {'label': 'POSITIVE', 'score': 0.9997504353523254},\n",
       " 236: {'label': 'NEGATIVE', 'score': 0.9996669292449951},\n",
       " 237: {'label': 'POSITIVE', 'score': 0.9984405636787415},\n",
       " 238: {'label': 'NEGATIVE', 'score': 0.9874409437179565},\n",
       " 239: {'label': 'POSITIVE', 'score': 0.9997871518135071},\n",
       " 240: {'label': 'POSITIVE', 'score': 0.9955800175666809},\n",
       " 241: {'label': 'POSITIVE', 'score': 0.9991344809532166},\n",
       " 242: {'label': 'POSITIVE', 'score': 0.9899918437004089},\n",
       " 243: {'label': 'POSITIVE', 'score': 0.9995191097259521},\n",
       " 244: {'label': 'NEGATIVE', 'score': 0.9808692932128906},\n",
       " 245: {'label': 'POSITIVE', 'score': 0.9966228008270264},\n",
       " 246: {'label': 'NEGATIVE', 'score': 0.8839253187179565},\n",
       " 247: {'label': 'NEGATIVE', 'score': 0.9206458330154419},\n",
       " 248: {'label': 'POSITIVE', 'score': 0.9985839128494263},\n",
       " 249: {'label': 'POSITIVE', 'score': 0.9980822801589966},\n",
       " 250: {'label': 'POSITIVE', 'score': 0.983863353729248},\n",
       " 251: {'label': 'POSITIVE', 'score': 0.9997362494468689},\n",
       " 252: {'label': 'NEGATIVE', 'score': 0.9974084496498108},\n",
       " 253: {'label': 'NEGATIVE', 'score': 0.9997907280921936},\n",
       " 254: {'label': 'POSITIVE', 'score': 0.9938188195228577},\n",
       " 255: {'label': 'NEGATIVE', 'score': 0.9976904392242432},\n",
       " 256: {'label': 'NEGATIVE', 'score': 0.9950376152992249},\n",
       " 257: {'label': 'POSITIVE', 'score': 0.9998505115509033},\n",
       " 258: {'label': 'NEGATIVE', 'score': 0.9997606873512268},\n",
       " 259: {'label': 'POSITIVE', 'score': 0.9990342855453491},\n",
       " 260: {'label': 'POSITIVE', 'score': 0.9993498921394348},\n",
       " 261: {'label': 'POSITIVE', 'score': 0.997731626033783},\n",
       " 262: {'label': 'POSITIVE', 'score': 0.9996145963668823},\n",
       " 263: {'label': 'POSITIVE', 'score': 0.9920986890792847},\n",
       " 264: {'label': 'NEGATIVE', 'score': 0.9981433153152466},\n",
       " 265: {'label': 'NEGATIVE', 'score': 0.5367509126663208},\n",
       " 266: {'label': 'POSITIVE', 'score': 0.9998237490653992},\n",
       " 267: {'label': 'NEGATIVE', 'score': 0.9856184124946594},\n",
       " 268: {'label': 'NEGATIVE', 'score': 0.9994251728057861},\n",
       " 269: {'label': 'NEGATIVE', 'score': 0.9911625385284424},\n",
       " 270: {'label': 'POSITIVE', 'score': 0.9994903802871704},\n",
       " 271: {'label': 'POSITIVE', 'score': 0.9998136162757874},\n",
       " 272: {'label': 'NEGATIVE', 'score': 0.7464689016342163},\n",
       " 273: {'label': 'NEGATIVE', 'score': 0.8780649900436401},\n",
       " 274: {'label': 'POSITIVE', 'score': 0.9975854158401489},\n",
       " 275: {'label': 'POSITIVE', 'score': 0.9997249245643616},\n",
       " 276: {'label': 'NEGATIVE', 'score': 0.994398295879364},\n",
       " 277: {'label': 'POSITIVE', 'score': 0.9998635053634644},\n",
       " 278: {'label': 'POSITIVE', 'score': 0.9994151592254639},\n",
       " 279: {'label': 'POSITIVE', 'score': 0.9998345375061035},\n",
       " 280: {'label': 'POSITIVE', 'score': 0.9988382458686829},\n",
       " 281: {'label': 'POSITIVE', 'score': 0.7402665019035339},\n",
       " 282: {'label': 'POSITIVE', 'score': 0.9991901516914368},\n",
       " 283: {'label': 'NEGATIVE', 'score': 0.9975671768188477},\n",
       " 284: {'label': 'POSITIVE', 'score': 0.9978944659233093},\n",
       " 285: {'label': 'POSITIVE', 'score': 0.9864557981491089},\n",
       " 286: {'label': 'NEGATIVE', 'score': 0.9771186113357544},\n",
       " 287: {'label': 'NEGATIVE', 'score': 0.6740893125534058},\n",
       " 288: {'label': 'NEGATIVE', 'score': 0.9606538414955139},\n",
       " 289: {'label': 'POSITIVE', 'score': 0.9956640601158142},\n",
       " 290: {'label': 'POSITIVE', 'score': 0.999806821346283},\n",
       " 291: {'label': 'POSITIVE', 'score': 0.987220287322998},\n",
       " 292: {'label': 'POSITIVE', 'score': 0.9674619436264038},\n",
       " 293: {'label': 'NEGATIVE', 'score': 0.9726386070251465},\n",
       " 294: {'label': 'POSITIVE', 'score': 0.9897779822349548},\n",
       " 295: {'label': 'NEGATIVE', 'score': 0.9884729981422424},\n",
       " 296: {'label': 'NEGATIVE', 'score': 0.9970775842666626},\n",
       " 297: {'label': 'POSITIVE', 'score': 0.998889148235321},\n",
       " 298: {'label': 'POSITIVE', 'score': 0.9994637370109558},\n",
       " 299: {'label': 'POSITIVE', 'score': 0.9998327493667603},\n",
       " 300: {'label': 'POSITIVE', 'score': 0.9849222898483276},\n",
       " 301: {'label': 'POSITIVE', 'score': 0.9996289014816284},\n",
       " 302: {'label': 'POSITIVE', 'score': 0.9985883831977844},\n",
       " 303: {'label': 'POSITIVE', 'score': 0.9949599504470825},\n",
       " 304: {'label': 'POSITIVE', 'score': 0.9995726943016052},\n",
       " 305: {'label': 'POSITIVE', 'score': 0.9959436058998108},\n",
       " 306: {'label': 'NEGATIVE', 'score': 0.9990720748901367},\n",
       " 307: {'label': 'NEGATIVE', 'score': 0.9970472455024719},\n",
       " 308: {'label': 'POSITIVE', 'score': 0.9998549222946167},\n",
       " 309: {'label': 'POSITIVE', 'score': 0.9996870756149292},\n",
       " 310: {'label': 'POSITIVE', 'score': 0.9998749494552612},\n",
       " 311: {'label': 'POSITIVE', 'score': 0.9998273253440857},\n",
       " 312: {'label': 'NEGATIVE', 'score': 0.9997393488883972},\n",
       " 313: {'label': 'NEGATIVE', 'score': 0.998514711856842},\n",
       " 314: {'label': 'POSITIVE', 'score': 0.9959878325462341},\n",
       " 315: {'label': 'POSITIVE', 'score': 0.9995050430297852},\n",
       " 316: {'label': 'POSITIVE', 'score': 0.997197151184082},\n",
       " 317: {'label': 'POSITIVE', 'score': 0.9998165965080261},\n",
       " 318: {'label': 'NEGATIVE', 'score': 0.9807353615760803},\n",
       " 319: {'label': 'POSITIVE', 'score': 0.6149105429649353},\n",
       " 320: {'label': 'POSITIVE', 'score': 0.9994310736656189},\n",
       " 321: {'label': 'POSITIVE', 'score': 0.9997007846832275},\n",
       " 322: {'label': 'POSITIVE', 'score': 0.9990512728691101},\n",
       " 323: {'label': 'POSITIVE', 'score': 0.9678065180778503},\n",
       " 324: {'label': 'NEGATIVE', 'score': 0.6966674327850342},\n",
       " 325: {'label': 'POSITIVE', 'score': 0.9988051652908325},\n",
       " 326: {'label': 'POSITIVE', 'score': 0.9996416568756104},\n",
       " 327: {'label': 'NEGATIVE', 'score': 0.6099483966827393},\n",
       " 328: {'label': 'POSITIVE', 'score': 0.9436786770820618},\n",
       " 329: {'label': 'NEGATIVE', 'score': 0.9800437688827515},\n",
       " 330: {'label': 'POSITIVE', 'score': 0.9728445410728455},\n",
       " 331: {'label': 'POSITIVE', 'score': 0.9997449517250061},\n",
       " 332: {'label': 'NEGATIVE', 'score': 0.998663067817688},\n",
       " 333: {'label': 'POSITIVE', 'score': 0.9990643858909607},\n",
       " 334: {'label': 'POSITIVE', 'score': 0.9998651742935181},\n",
       " 335: {'label': 'NEGATIVE', 'score': 0.999784529209137},\n",
       " 336: {'label': 'NEGATIVE', 'score': 0.9879834651947021},\n",
       " 337: {'label': 'POSITIVE', 'score': 0.9997691512107849},\n",
       " 338: {'label': 'POSITIVE', 'score': 0.9996981620788574},\n",
       " 339: {'label': 'POSITIVE', 'score': 0.9909362196922302},\n",
       " 340: {'label': 'POSITIVE', 'score': 0.9996291399002075},\n",
       " 341: {'label': 'POSITIVE', 'score': 0.9901594519615173},\n",
       " 342: {'label': 'POSITIVE', 'score': 0.9998615980148315},\n",
       " 343: {'label': 'NEGATIVE', 'score': 0.9995096921920776},\n",
       " 344: {'label': 'POSITIVE', 'score': 0.9964755177497864},\n",
       " 345: {'label': 'POSITIVE', 'score': 0.9068370461463928},\n",
       " 346: {'label': 'NEGATIVE', 'score': 0.9862580299377441},\n",
       " 347: {'label': 'POSITIVE', 'score': 0.9992538094520569},\n",
       " 348: {'label': 'NEGATIVE', 'score': 0.701285183429718},\n",
       " 349: {'label': 'POSITIVE', 'score': 0.9993942975997925},\n",
       " 350: {'label': 'NEGATIVE', 'score': 0.9950096607208252},\n",
       " 351: {'label': 'POSITIVE', 'score': 0.999881386756897},\n",
       " 352: {'label': 'POSITIVE', 'score': 0.9998319149017334},\n",
       " 353: {'label': 'NEGATIVE', 'score': 0.8649342656135559},\n",
       " 354: {'label': 'NEGATIVE', 'score': 0.9029057025909424},\n",
       " 355: {'label': 'POSITIVE', 'score': 0.999704897403717},\n",
       " 356: {'label': 'POSITIVE', 'score': 0.9995372295379639},\n",
       " 357: {'label': 'POSITIVE', 'score': 0.987125813961029},\n",
       " 358: {'label': 'POSITIVE', 'score': 0.9997937083244324},\n",
       " 359: {'label': 'POSITIVE', 'score': 0.9996260404586792},\n",
       " 360: {'label': 'POSITIVE', 'score': 0.9998338222503662},\n",
       " 361: {'label': 'POSITIVE', 'score': 0.9727704524993896},\n",
       " 362: {'label': 'NEGATIVE', 'score': 0.9932973980903625},\n",
       " 363: {'label': 'POSITIVE', 'score': 0.9991055130958557},\n",
       " 364: {'label': 'POSITIVE', 'score': 0.9986086487770081},\n",
       " 365: {'label': 'POSITIVE', 'score': 0.9998131394386292},\n",
       " 366: {'label': 'POSITIVE', 'score': 0.9945002794265747},\n",
       " 367: {'label': 'POSITIVE', 'score': 0.9837148785591125},\n",
       " 368: {'label': 'POSITIVE', 'score': 0.9716496467590332},\n",
       " 369: {'label': 'NEGATIVE', 'score': 0.9854198098182678},\n",
       " 370: {'label': 'POSITIVE', 'score': 0.9992082715034485},\n",
       " 371: {'label': 'POSITIVE', 'score': 0.9973700046539307},\n",
       " 372: {'label': 'POSITIVE', 'score': 0.9994229078292847},\n",
       " 373: {'label': 'POSITIVE', 'score': 0.9328578114509583},\n",
       " 374: {'label': 'POSITIVE', 'score': 0.9998131394386292},\n",
       " 375: {'label': 'POSITIVE', 'score': 0.999758780002594},\n",
       " 376: {'label': 'POSITIVE', 'score': 0.9994252920150757},\n",
       " 377: {'label': 'POSITIVE', 'score': 0.9997801184654236},\n",
       " 378: {'label': 'POSITIVE', 'score': 0.9928597807884216},\n",
       " 379: {'label': 'POSITIVE', 'score': 0.9998156428337097},\n",
       " 380: {'label': 'POSITIVE', 'score': 0.9998558759689331},\n",
       " 381: {'label': 'NEGATIVE', 'score': 0.976010262966156},\n",
       " 382: {'label': 'NEGATIVE', 'score': 0.9966273903846741},\n",
       " 383: {'label': 'POSITIVE', 'score': 0.9998124241828918},\n",
       " 384: {'label': 'POSITIVE', 'score': 0.9991028308868408},\n",
       " 385: {'label': 'POSITIVE', 'score': 0.9988642930984497},\n",
       " 386: {'label': 'POSITIVE', 'score': 0.9945880174636841},\n",
       " 387: {'label': 'POSITIVE', 'score': 0.9977360963821411},\n",
       " 388: {'label': 'NEGATIVE', 'score': 0.9903014898300171},\n",
       " 389: {'label': 'POSITIVE', 'score': 0.9996739625930786},\n",
       " 390: {'label': 'POSITIVE', 'score': 0.990718424320221},\n",
       " 391: {'label': 'NEGATIVE', 'score': 0.9485069513320923},\n",
       " 392: {'label': 'POSITIVE', 'score': 0.9992807507514954},\n",
       " 393: {'label': 'POSITIVE', 'score': 0.9996778964996338},\n",
       " 394: {'label': 'NEGATIVE', 'score': 0.9975185394287109},\n",
       " 395: {'label': 'POSITIVE', 'score': 0.9904000163078308},\n",
       " 396: {'label': 'POSITIVE', 'score': 0.9998705387115479},\n",
       " 397: {'label': 'POSITIVE', 'score': 0.9996154308319092},\n",
       " 398: {'label': 'POSITIVE', 'score': 0.9991294741630554},\n",
       " 399: {'label': 'POSITIVE', 'score': 0.9890887141227722},\n",
       " 400: {'label': 'POSITIVE', 'score': 0.99959796667099},\n",
       " 401: {'label': 'NEGATIVE', 'score': 0.9990707039833069},\n",
       " 402: {'label': 'NEGATIVE', 'score': 0.996253490447998},\n",
       " 403: {'label': 'NEGATIVE', 'score': 0.9997598528862},\n",
       " 404: {'label': 'NEGATIVE', 'score': 0.5700811147689819},\n",
       " 405: {'label': 'POSITIVE', 'score': 0.9989233613014221},\n",
       " 406: {'label': 'POSITIVE', 'score': 0.9998452663421631},\n",
       " 407: {'label': 'NEGATIVE', 'score': 0.9694195985794067},\n",
       " 408: {'label': 'POSITIVE', 'score': 0.9996857643127441},\n",
       " 409: {'label': 'POSITIVE', 'score': 0.9998652935028076},\n",
       " 410: {'label': 'NEGATIVE', 'score': 0.9876349568367004},\n",
       " 411: {'label': 'POSITIVE', 'score': 0.9893843531608582},\n",
       " 412: {'label': 'POSITIVE', 'score': 0.7885971069335938},\n",
       " 413: {'label': 'POSITIVE', 'score': 0.9798963069915771},\n",
       " 414: {'label': 'POSITIVE', 'score': 0.9981574416160583},\n",
       " 415: {'label': 'POSITIVE', 'score': 0.9831825494766235},\n",
       " 416: {'label': 'POSITIVE', 'score': 0.9997627139091492},\n",
       " 417: {'label': 'POSITIVE', 'score': 0.9960783123970032},\n",
       " 418: {'label': 'NEGATIVE', 'score': 0.9997357726097107},\n",
       " 419: {'label': 'NEGATIVE', 'score': 0.9905248284339905},\n",
       " 420: {'label': 'NEGATIVE', 'score': 0.9900524020195007},\n",
       " 421: {'label': 'POSITIVE', 'score': 0.9998262524604797},\n",
       " 422: {'label': 'POSITIVE', 'score': 0.9955517649650574},\n",
       " 423: {'label': 'NEGATIVE', 'score': 0.9993873834609985},\n",
       " 424: {'label': 'POSITIVE', 'score': 0.9997064471244812},\n",
       " 425: {'label': 'POSITIVE', 'score': 0.9992542862892151},\n",
       " 426: {'label': 'POSITIVE', 'score': 0.9996846914291382},\n",
       " 427: {'label': 'POSITIVE', 'score': 0.7627708911895752},\n",
       " 428: {'label': 'POSITIVE', 'score': 0.9996923208236694},\n",
       " 429: {'label': 'POSITIVE', 'score': 0.6295685172080994},\n",
       " 430: {'label': 'POSITIVE', 'score': 0.9998317956924438},\n",
       " 431: {'label': 'NEGATIVE', 'score': 0.922361433506012},\n",
       " 432: {'label': 'POSITIVE', 'score': 0.9960152506828308},\n",
       " 433: {'label': 'NEGATIVE', 'score': 0.9525576233863831},\n",
       " 434: {'label': 'POSITIVE', 'score': 0.9933254718780518},\n",
       " 435: {'label': 'POSITIVE', 'score': 0.9973828196525574},\n",
       " 436: {'label': 'POSITIVE', 'score': 0.99978107213974},\n",
       " 437: {'label': 'POSITIVE', 'score': 0.9943650960922241},\n",
       " 438: {'label': 'POSITIVE', 'score': 0.9990732669830322},\n",
       " 439: {'label': 'POSITIVE', 'score': 0.9998358488082886},\n",
       " 440: {'label': 'NEGATIVE', 'score': 0.9761542677879333},\n",
       " 441: {'label': 'NEGATIVE', 'score': 0.9806792736053467},\n",
       " 442: {'label': 'POSITIVE', 'score': 0.9997614026069641},\n",
       " 443: {'label': 'POSITIVE', 'score': 0.9997324347496033},\n",
       " 444: {'label': 'NEGATIVE', 'score': 0.9578165411949158},\n",
       " 445: {'label': 'POSITIVE', 'score': 0.976090669631958},\n",
       " 446: {'label': 'NEGATIVE', 'score': 0.9966159462928772},\n",
       " 447: {'label': 'POSITIVE', 'score': 0.9967784285545349},\n",
       " 448: {'label': 'POSITIVE', 'score': 0.9997603297233582},\n",
       " 449: {'label': 'POSITIVE', 'score': 0.9951655864715576},\n",
       " 450: {'label': 'POSITIVE', 'score': 0.9998136162757874},\n",
       " 451: {'label': 'POSITIVE', 'score': 0.9899705052375793},\n",
       " 452: {'label': 'POSITIVE', 'score': 0.9983360171318054},\n",
       " 453: {'label': 'POSITIVE', 'score': 0.9998846054077148},\n",
       " 454: {'label': 'POSITIVE', 'score': 0.9998291730880737},\n",
       " 455: {'label': 'POSITIVE', 'score': 0.9997351765632629},\n",
       " 456: {'label': 'POSITIVE', 'score': 0.9991808533668518},\n",
       " 457: {'label': 'POSITIVE', 'score': 0.9997740387916565},\n",
       " 458: {'label': 'POSITIVE', 'score': 0.9998199343681335},\n",
       " 459: {'label': 'NEGATIVE', 'score': 0.9962291121482849},\n",
       " 460: {'label': 'POSITIVE', 'score': 0.9976109266281128},\n",
       " 461: {'label': 'NEGATIVE', 'score': 0.9953809976577759},\n",
       " 462: {'label': 'NEGATIVE', 'score': 0.9872807860374451},\n",
       " 463: {'label': 'POSITIVE', 'score': 0.9931085109710693},\n",
       " 464: {'label': 'POSITIVE', 'score': 0.6788464188575745},\n",
       " 465: {'label': 'POSITIVE', 'score': 0.9998337030410767},\n",
       " 466: {'label': 'POSITIVE', 'score': 0.9990272521972656},\n",
       " 467: {'label': 'POSITIVE', 'score': 0.9984594583511353},\n",
       " 468: {'label': 'POSITIVE', 'score': 0.9962235689163208},\n",
       " 469: {'label': 'NEGATIVE', 'score': 0.6947106719017029},\n",
       " 470: {'label': 'NEGATIVE', 'score': 0.7010921835899353},\n",
       " 471: {'label': 'POSITIVE', 'score': 0.9767345786094666},\n",
       " 472: {'label': 'POSITIVE', 'score': 0.9997861981391907},\n",
       " 473: {'label': 'POSITIVE', 'score': 0.9998418092727661},\n",
       " 474: {'label': 'POSITIVE', 'score': 0.9993029832839966},\n",
       " 475: {'label': 'POSITIVE', 'score': 0.9998631477355957},\n",
       " 476: {'label': 'POSITIVE', 'score': 0.999648928642273},\n",
       " 477: {'label': 'POSITIVE', 'score': 0.9980093836784363},\n",
       " 478: {'label': 'POSITIVE', 'score': 0.99974125623703},\n",
       " 479: {'label': 'POSITIVE', 'score': 0.9991508722305298},\n",
       " 480: {'label': 'POSITIVE', 'score': 0.9997777342796326},\n",
       " 481: {'label': 'NEGATIVE', 'score': 0.958681046962738},\n",
       " 482: {'label': 'POSITIVE', 'score': 0.9997424483299255},\n",
       " 483: {'label': 'POSITIVE', 'score': 0.9998000264167786},\n",
       " 484: {'label': 'NEGATIVE', 'score': 0.9740872979164124},\n",
       " 485: {'label': 'POSITIVE', 'score': 0.9966086149215698},\n",
       " 486: {'label': 'POSITIVE', 'score': 0.9864798188209534},\n",
       " 487: {'label': 'POSITIVE', 'score': 0.9998014569282532},\n",
       " 488: {'label': 'NEGATIVE', 'score': 0.9996128678321838},\n",
       " 489: {'label': 'NEGATIVE', 'score': 0.7682086229324341},\n",
       " 490: {'label': 'POSITIVE', 'score': 0.9997739195823669},\n",
       " 491: {'label': 'NEGATIVE', 'score': 0.8953822255134583},\n",
       " 492: {'label': 'POSITIVE', 'score': 0.9988487958908081},\n",
       " 493: {'label': 'POSITIVE', 'score': 0.9995669722557068},\n",
       " 494: {'label': 'NEGATIVE', 'score': 0.9974505305290222},\n",
       " 495: {'label': 'POSITIVE', 'score': 0.9995843768119812},\n",
       " 496: {'label': 'POSITIVE', 'score': 0.999860405921936},\n",
       " 497: {'label': 'POSITIVE', 'score': 0.9997543692588806},\n",
       " 498: {'label': 'POSITIVE', 'score': 0.999424934387207},\n",
       " 499: {'label': 'POSITIVE', 'score': 0.9929519295692444},\n",
       " 500: {'label': 'POSITIVE', 'score': 0.9997958540916443}}"
      ]
     },
     "execution_count": 85,
     "metadata": {},
     "output_type": "execute_result"
    }
   ],
   "source": [
    "res"
   ]
  },
  {
   "cell_type": "code",
   "execution_count": 86,
   "id": "76d27c35",
   "metadata": {},
   "outputs": [
    {
     "data": {
      "text/html": [
       "<div>\n",
       "<style scoped>\n",
       "    .dataframe tbody tr th:only-of-type {\n",
       "        vertical-align: middle;\n",
       "    }\n",
       "\n",
       "    .dataframe tbody tr th {\n",
       "        vertical-align: top;\n",
       "    }\n",
       "\n",
       "    .dataframe thead th {\n",
       "        text-align: right;\n",
       "    }\n",
       "</style>\n",
       "<table border=\"1\" class=\"dataframe\">\n",
       "  <thead>\n",
       "    <tr style=\"text-align: right;\">\n",
       "      <th></th>\n",
       "      <th>Id</th>\n",
       "      <th>label</th>\n",
       "      <th>score</th>\n",
       "      <th>ProductId</th>\n",
       "      <th>UserId</th>\n",
       "      <th>ProfileName</th>\n",
       "      <th>HelpfulnessNumerator</th>\n",
       "      <th>HelpfulnessDenominator</th>\n",
       "      <th>Score</th>\n",
       "      <th>Time</th>\n",
       "      <th>Summary</th>\n",
       "      <th>Text</th>\n",
       "    </tr>\n",
       "  </thead>\n",
       "  <tbody>\n",
       "    <tr>\n",
       "      <th>0</th>\n",
       "      <td>1</td>\n",
       "      <td>POSITIVE</td>\n",
       "      <td>0.998385</td>\n",
       "      <td>B001E4KFG0</td>\n",
       "      <td>A3SGXH7AUHU8GW</td>\n",
       "      <td>delmartian</td>\n",
       "      <td>1</td>\n",
       "      <td>1</td>\n",
       "      <td>5</td>\n",
       "      <td>1303862400</td>\n",
       "      <td>Good Quality Dog Food</td>\n",
       "      <td>I have bought several of the Vitality canned d...</td>\n",
       "    </tr>\n",
       "    <tr>\n",
       "      <th>1</th>\n",
       "      <td>2</td>\n",
       "      <td>NEGATIVE</td>\n",
       "      <td>0.999525</td>\n",
       "      <td>B00813GRG4</td>\n",
       "      <td>A1D87F6ZCVE5NK</td>\n",
       "      <td>dll pa</td>\n",
       "      <td>0</td>\n",
       "      <td>0</td>\n",
       "      <td>1</td>\n",
       "      <td>1346976000</td>\n",
       "      <td>Not as Advertised</td>\n",
       "      <td>Product arrived labeled as Jumbo Salted Peanut...</td>\n",
       "    </tr>\n",
       "    <tr>\n",
       "      <th>2</th>\n",
       "      <td>3</td>\n",
       "      <td>POSITIVE</td>\n",
       "      <td>0.999765</td>\n",
       "      <td>B000LQOCH0</td>\n",
       "      <td>ABXLMWJIXXAIN</td>\n",
       "      <td>Natalia Corres \"Natalia Corres\"</td>\n",
       "      <td>1</td>\n",
       "      <td>1</td>\n",
       "      <td>4</td>\n",
       "      <td>1219017600</td>\n",
       "      <td>\"Delight\" says it all</td>\n",
       "      <td>This is a confection that has been around a fe...</td>\n",
       "    </tr>\n",
       "    <tr>\n",
       "      <th>3</th>\n",
       "      <td>4</td>\n",
       "      <td>POSITIVE</td>\n",
       "      <td>0.999153</td>\n",
       "      <td>B000UA0QIQ</td>\n",
       "      <td>A395BORC6FGVXV</td>\n",
       "      <td>Karl</td>\n",
       "      <td>3</td>\n",
       "      <td>3</td>\n",
       "      <td>2</td>\n",
       "      <td>1307923200</td>\n",
       "      <td>Cough Medicine</td>\n",
       "      <td>If you are looking for the secret ingredient i...</td>\n",
       "    </tr>\n",
       "    <tr>\n",
       "      <th>4</th>\n",
       "      <td>5</td>\n",
       "      <td>POSITIVE</td>\n",
       "      <td>0.998708</td>\n",
       "      <td>B006K2ZZ7K</td>\n",
       "      <td>A1UQRSCLF8GW1T</td>\n",
       "      <td>Michael D. Bigham \"M. Wassir\"</td>\n",
       "      <td>0</td>\n",
       "      <td>0</td>\n",
       "      <td>5</td>\n",
       "      <td>1350777600</td>\n",
       "      <td>Great taffy</td>\n",
       "      <td>Great taffy at a great price.  There was a wid...</td>\n",
       "    </tr>\n",
       "    <tr>\n",
       "      <th>...</th>\n",
       "      <td>...</td>\n",
       "      <td>...</td>\n",
       "      <td>...</td>\n",
       "      <td>...</td>\n",
       "      <td>...</td>\n",
       "      <td>...</td>\n",
       "      <td>...</td>\n",
       "      <td>...</td>\n",
       "      <td>...</td>\n",
       "      <td>...</td>\n",
       "      <td>...</td>\n",
       "      <td>...</td>\n",
       "    </tr>\n",
       "    <tr>\n",
       "      <th>493</th>\n",
       "      <td>496</td>\n",
       "      <td>POSITIVE</td>\n",
       "      <td>0.99986</td>\n",
       "      <td>B000G6RYNE</td>\n",
       "      <td>APGAA43E3WPN7</td>\n",
       "      <td>Darren</td>\n",
       "      <td>0</td>\n",
       "      <td>0</td>\n",
       "      <td>5</td>\n",
       "      <td>1201392000</td>\n",
       "      <td>amazing chips</td>\n",
       "      <td>i rarely eat chips but i saw these and tried t...</td>\n",
       "    </tr>\n",
       "    <tr>\n",
       "      <th>494</th>\n",
       "      <td>497</td>\n",
       "      <td>POSITIVE</td>\n",
       "      <td>0.999754</td>\n",
       "      <td>B000G6RYNE</td>\n",
       "      <td>ABR7HU5H1KNE</td>\n",
       "      <td>Keith</td>\n",
       "      <td>0</td>\n",
       "      <td>0</td>\n",
       "      <td>5</td>\n",
       "      <td>1196726400</td>\n",
       "      <td>Best Chip Ever</td>\n",
       "      <td>This is easily the best potato chip that I hav...</td>\n",
       "    </tr>\n",
       "    <tr>\n",
       "      <th>495</th>\n",
       "      <td>498</td>\n",
       "      <td>POSITIVE</td>\n",
       "      <td>0.999425</td>\n",
       "      <td>B000G6RYNE</td>\n",
       "      <td>AJQD2WWJYOYFQ</td>\n",
       "      <td>bubbles</td>\n",
       "      <td>0</td>\n",
       "      <td>0</td>\n",
       "      <td>4</td>\n",
       "      <td>1186617600</td>\n",
       "      <td>Tangy, spicy, and sweet- oh my!</td>\n",
       "      <td>Kettle Chips Spicy Thai potato chips have the ...</td>\n",
       "    </tr>\n",
       "    <tr>\n",
       "      <th>496</th>\n",
       "      <td>499</td>\n",
       "      <td>POSITIVE</td>\n",
       "      <td>0.992952</td>\n",
       "      <td>B000G6RYNE</td>\n",
       "      <td>A16YH487W9ZYO0</td>\n",
       "      <td>Bruce G. Lindsay</td>\n",
       "      <td>0</td>\n",
       "      <td>0</td>\n",
       "      <td>4</td>\n",
       "      <td>1184198400</td>\n",
       "      <td>An indulgence with a bite</td>\n",
       "      <td>Okay, I should not eat potato chips, nor shoul...</td>\n",
       "    </tr>\n",
       "    <tr>\n",
       "      <th>497</th>\n",
       "      <td>500</td>\n",
       "      <td>POSITIVE</td>\n",
       "      <td>0.999796</td>\n",
       "      <td>B000G6RYNE</td>\n",
       "      <td>A83YQC1XOU4CS</td>\n",
       "      <td>J. Baker</td>\n",
       "      <td>0</td>\n",
       "      <td>0</td>\n",
       "      <td>5</td>\n",
       "      <td>1183420800</td>\n",
       "      <td>The best I've had</td>\n",
       "      <td>I don't write very many reviews but I have to ...</td>\n",
       "    </tr>\n",
       "  </tbody>\n",
       "</table>\n",
       "<p>498 rows × 12 columns</p>\n",
       "</div>"
      ],
      "text/plain": [
       "      Id     label     score   ProductId          UserId  \\\n",
       "0      1  POSITIVE  0.998385  B001E4KFG0  A3SGXH7AUHU8GW   \n",
       "1      2  NEGATIVE  0.999525  B00813GRG4  A1D87F6ZCVE5NK   \n",
       "2      3  POSITIVE  0.999765  B000LQOCH0   ABXLMWJIXXAIN   \n",
       "3      4  POSITIVE  0.999153  B000UA0QIQ  A395BORC6FGVXV   \n",
       "4      5  POSITIVE  0.998708  B006K2ZZ7K  A1UQRSCLF8GW1T   \n",
       "..   ...       ...       ...         ...             ...   \n",
       "493  496  POSITIVE   0.99986  B000G6RYNE   APGAA43E3WPN7   \n",
       "494  497  POSITIVE  0.999754  B000G6RYNE    ABR7HU5H1KNE   \n",
       "495  498  POSITIVE  0.999425  B000G6RYNE   AJQD2WWJYOYFQ   \n",
       "496  499  POSITIVE  0.992952  B000G6RYNE  A16YH487W9ZYO0   \n",
       "497  500  POSITIVE  0.999796  B000G6RYNE   A83YQC1XOU4CS   \n",
       "\n",
       "                         ProfileName  HelpfulnessNumerator  \\\n",
       "0                         delmartian                     1   \n",
       "1                             dll pa                     0   \n",
       "2    Natalia Corres \"Natalia Corres\"                     1   \n",
       "3                               Karl                     3   \n",
       "4      Michael D. Bigham \"M. Wassir\"                     0   \n",
       "..                               ...                   ...   \n",
       "493                           Darren                     0   \n",
       "494                            Keith                     0   \n",
       "495                          bubbles                     0   \n",
       "496                 Bruce G. Lindsay                     0   \n",
       "497                         J. Baker                     0   \n",
       "\n",
       "     HelpfulnessDenominator  Score        Time  \\\n",
       "0                         1      5  1303862400   \n",
       "1                         0      1  1346976000   \n",
       "2                         1      4  1219017600   \n",
       "3                         3      2  1307923200   \n",
       "4                         0      5  1350777600   \n",
       "..                      ...    ...         ...   \n",
       "493                       0      5  1201392000   \n",
       "494                       0      5  1196726400   \n",
       "495                       0      4  1186617600   \n",
       "496                       0      4  1184198400   \n",
       "497                       0      5  1183420800   \n",
       "\n",
       "                             Summary  \\\n",
       "0              Good Quality Dog Food   \n",
       "1                  Not as Advertised   \n",
       "2              \"Delight\" says it all   \n",
       "3                     Cough Medicine   \n",
       "4                        Great taffy   \n",
       "..                               ...   \n",
       "493                    amazing chips   \n",
       "494                   Best Chip Ever   \n",
       "495  Tangy, spicy, and sweet- oh my!   \n",
       "496        An indulgence with a bite   \n",
       "497                The best I've had   \n",
       "\n",
       "                                                  Text  \n",
       "0    I have bought several of the Vitality canned d...  \n",
       "1    Product arrived labeled as Jumbo Salted Peanut...  \n",
       "2    This is a confection that has been around a fe...  \n",
       "3    If you are looking for the secret ingredient i...  \n",
       "4    Great taffy at a great price.  There was a wid...  \n",
       "..                                                 ...  \n",
       "493  i rarely eat chips but i saw these and tried t...  \n",
       "494  This is easily the best potato chip that I hav...  \n",
       "495  Kettle Chips Spicy Thai potato chips have the ...  \n",
       "496  Okay, I should not eat potato chips, nor shoul...  \n",
       "497  I don't write very many reviews but I have to ...  \n",
       "\n",
       "[498 rows x 12 columns]"
      ]
     },
     "execution_count": 86,
     "metadata": {},
     "output_type": "execute_result"
    }
   ],
   "source": [
    "model_sent = pd.DataFrame(res).T\n",
    "model_sent = model_sent.reset_index().rename(columns = {'index':'Id'})\n",
    "model_sent = model_sent.merge(df, how = 'left')\n",
    "model_sent"
   ]
  },
  {
   "cell_type": "code",
   "execution_count": 87,
   "id": "ab083aad",
   "metadata": {},
   "outputs": [
    {
     "data": {
      "text/plain": [
       "POSITIVE    353\n",
       "NEGATIVE    145\n",
       "Name: label, dtype: int64"
      ]
     },
     "execution_count": 87,
     "metadata": {},
     "output_type": "execute_result"
    }
   ],
   "source": [
    "model_sent['label'].value_counts()"
   ]
  },
  {
   "cell_type": "code",
   "execution_count": 88,
   "id": "c177b2df",
   "metadata": {},
   "outputs": [],
   "source": [
    "model_sent[\"score\"] = model_sent.apply(lambda x: x[\"score\"] * (-1) if x[\"label\"] == \"NEGATIVE\" else x[\"score\"], axis=1)"
   ]
  },
  {
   "cell_type": "code",
   "execution_count": 90,
   "id": "ecb3b1f8",
   "metadata": {},
   "outputs": [
    {
     "data": {
      "text/html": [
       "<div>\n",
       "<style scoped>\n",
       "    .dataframe tbody tr th:only-of-type {\n",
       "        vertical-align: middle;\n",
       "    }\n",
       "\n",
       "    .dataframe tbody tr th {\n",
       "        vertical-align: top;\n",
       "    }\n",
       "\n",
       "    .dataframe thead th {\n",
       "        text-align: right;\n",
       "    }\n",
       "</style>\n",
       "<table border=\"1\" class=\"dataframe\">\n",
       "  <thead>\n",
       "    <tr style=\"text-align: right;\">\n",
       "      <th></th>\n",
       "      <th>Id</th>\n",
       "      <th>label</th>\n",
       "      <th>score</th>\n",
       "      <th>ProductId</th>\n",
       "      <th>UserId</th>\n",
       "      <th>ProfileName</th>\n",
       "      <th>HelpfulnessNumerator</th>\n",
       "      <th>HelpfulnessDenominator</th>\n",
       "      <th>Score</th>\n",
       "      <th>Time</th>\n",
       "      <th>Summary</th>\n",
       "      <th>Text</th>\n",
       "    </tr>\n",
       "  </thead>\n",
       "  <tbody>\n",
       "    <tr>\n",
       "      <th>0</th>\n",
       "      <td>1</td>\n",
       "      <td>POSITIVE</td>\n",
       "      <td>0.998385</td>\n",
       "      <td>B001E4KFG0</td>\n",
       "      <td>A3SGXH7AUHU8GW</td>\n",
       "      <td>delmartian</td>\n",
       "      <td>1</td>\n",
       "      <td>1</td>\n",
       "      <td>5</td>\n",
       "      <td>1303862400</td>\n",
       "      <td>Good Quality Dog Food</td>\n",
       "      <td>I have bought several of the Vitality canned d...</td>\n",
       "    </tr>\n",
       "    <tr>\n",
       "      <th>1</th>\n",
       "      <td>2</td>\n",
       "      <td>NEGATIVE</td>\n",
       "      <td>-0.999525</td>\n",
       "      <td>B00813GRG4</td>\n",
       "      <td>A1D87F6ZCVE5NK</td>\n",
       "      <td>dll pa</td>\n",
       "      <td>0</td>\n",
       "      <td>0</td>\n",
       "      <td>1</td>\n",
       "      <td>1346976000</td>\n",
       "      <td>Not as Advertised</td>\n",
       "      <td>Product arrived labeled as Jumbo Salted Peanut...</td>\n",
       "    </tr>\n",
       "    <tr>\n",
       "      <th>2</th>\n",
       "      <td>3</td>\n",
       "      <td>POSITIVE</td>\n",
       "      <td>0.999765</td>\n",
       "      <td>B000LQOCH0</td>\n",
       "      <td>ABXLMWJIXXAIN</td>\n",
       "      <td>Natalia Corres \"Natalia Corres\"</td>\n",
       "      <td>1</td>\n",
       "      <td>1</td>\n",
       "      <td>4</td>\n",
       "      <td>1219017600</td>\n",
       "      <td>\"Delight\" says it all</td>\n",
       "      <td>This is a confection that has been around a fe...</td>\n",
       "    </tr>\n",
       "    <tr>\n",
       "      <th>3</th>\n",
       "      <td>4</td>\n",
       "      <td>POSITIVE</td>\n",
       "      <td>0.999153</td>\n",
       "      <td>B000UA0QIQ</td>\n",
       "      <td>A395BORC6FGVXV</td>\n",
       "      <td>Karl</td>\n",
       "      <td>3</td>\n",
       "      <td>3</td>\n",
       "      <td>2</td>\n",
       "      <td>1307923200</td>\n",
       "      <td>Cough Medicine</td>\n",
       "      <td>If you are looking for the secret ingredient i...</td>\n",
       "    </tr>\n",
       "    <tr>\n",
       "      <th>4</th>\n",
       "      <td>5</td>\n",
       "      <td>POSITIVE</td>\n",
       "      <td>0.998708</td>\n",
       "      <td>B006K2ZZ7K</td>\n",
       "      <td>A1UQRSCLF8GW1T</td>\n",
       "      <td>Michael D. Bigham \"M. Wassir\"</td>\n",
       "      <td>0</td>\n",
       "      <td>0</td>\n",
       "      <td>5</td>\n",
       "      <td>1350777600</td>\n",
       "      <td>Great taffy</td>\n",
       "      <td>Great taffy at a great price.  There was a wid...</td>\n",
       "    </tr>\n",
       "  </tbody>\n",
       "</table>\n",
       "</div>"
      ],
      "text/plain": [
       "   Id     label     score   ProductId          UserId  \\\n",
       "0   1  POSITIVE  0.998385  B001E4KFG0  A3SGXH7AUHU8GW   \n",
       "1   2  NEGATIVE -0.999525  B00813GRG4  A1D87F6ZCVE5NK   \n",
       "2   3  POSITIVE  0.999765  B000LQOCH0   ABXLMWJIXXAIN   \n",
       "3   4  POSITIVE  0.999153  B000UA0QIQ  A395BORC6FGVXV   \n",
       "4   5  POSITIVE  0.998708  B006K2ZZ7K  A1UQRSCLF8GW1T   \n",
       "\n",
       "                       ProfileName  HelpfulnessNumerator  \\\n",
       "0                       delmartian                     1   \n",
       "1                           dll pa                     0   \n",
       "2  Natalia Corres \"Natalia Corres\"                     1   \n",
       "3                             Karl                     3   \n",
       "4    Michael D. Bigham \"M. Wassir\"                     0   \n",
       "\n",
       "   HelpfulnessDenominator  Score        Time                Summary  \\\n",
       "0                       1      5  1303862400  Good Quality Dog Food   \n",
       "1                       0      1  1346976000      Not as Advertised   \n",
       "2                       1      4  1219017600  \"Delight\" says it all   \n",
       "3                       3      2  1307923200         Cough Medicine   \n",
       "4                       0      5  1350777600            Great taffy   \n",
       "\n",
       "                                                Text  \n",
       "0  I have bought several of the Vitality canned d...  \n",
       "1  Product arrived labeled as Jumbo Salted Peanut...  \n",
       "2  This is a confection that has been around a fe...  \n",
       "3  If you are looking for the secret ingredient i...  \n",
       "4  Great taffy at a great price.  There was a wid...  "
      ]
     },
     "execution_count": 90,
     "metadata": {},
     "output_type": "execute_result"
    }
   ],
   "source": [
    "model_sent.head()"
   ]
  },
  {
   "cell_type": "code",
   "execution_count": 91,
   "id": "c2246dfb",
   "metadata": {},
   "outputs": [
    {
     "data": {
      "image/png": "[encoded data removed]",
      "text/plain": [
       "<Figure size 640x480 with 1 Axes>"
      ]
     },
     "metadata": {},
     "output_type": "display_data"
    }
   ],
   "source": [
    "ax = sns.boxplot(data=model_sent, x = 'Score', y = 'score')\n",
    "ax.set_title('Combine Sent_model scores vs Review Stars')\n",
    "plt.show()"
   ]
  },
  {
   "cell_type": "code",
   "execution_count": 92,
   "id": "33770c6b",
   "metadata": {},
   "outputs": [
    {
     "data": {
      "image/png": "[encoded data removed]",
      "text/plain": [
       "<Figure size 640x480 with 1 Axes>"
      ]
     },
     "metadata": {},
     "output_type": "display_data"
    }
   ],
   "source": [
    "ax = sns.barplot(data=model_sent, x = 'Score', y = 'score')\n",
    "ax.set_title('Combine Sent_model scores vs Review Stars')\n",
    "plt.show()"
   ]
  },
  {
   "cell_type": "code",
   "execution_count": null,
   "id": "e68184a4",
   "metadata": {},
   "outputs": [],
   "source": []
  }
 ],
 "metadata": {
  "kernelspec": {
   "display_name": "Python 3 (ipykernel)",
   "language": "python",
   "name": "python3"
  },
  "language_info": {
   "codemirror_mode": {
    "name": "ipython",
    "version": 3
   },
   "file_extension": ".py",
   "mimetype": "text/x-python",
   "name": "python",
   "nbconvert_exporter": "python",
   "pygments_lexer": "ipython3",
   "version": "3.9.13"
  }
 },
 "nbformat": 4,
 "nbformat_minor": 5
}
